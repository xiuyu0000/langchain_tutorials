{
 "cells": [
  {
   "attachments": {},
   "cell_type": "markdown",
   "id": "4be2e6fa-2187-4617-8433-0db4fb0c099c",
   "metadata": {},
   "source": [
    "# LangChain 核心模块学习：Model I/O\n",
    "\n",
    "`Model I/O` 是 LangChain 为开发者提供的一套面向 LLM 的标准化模型接口，包括模型输入（Prompts）、模型输出（Output Parsers）和模型本身（Models）。\n",
    "\n",
    "- Prompts：模板化、动态选择和管理模型输入\n",
    "- Models：以通用接口调用语言模型\n",
    "- Output Parser：从模型输出中提取信息，并规范化内容\n",
    "\n",
    "![](../images/model_io.jpeg)\r\n"
   ]
  },
  {
   "cell_type": "code",
   "execution_count": 1,
   "id": "2e64b01e-f5ad-4614-b0c3-a140f6bb575a",
   "metadata": {
    "collapsed": true,
    "jupyter": {
     "outputs_hidden": true
    }
   },
   "outputs": [
    {
     "name": "stdout",
     "output_type": "stream",
     "text": [
      "Requirement already satisfied: langchain in /root/miniconda3/envs/langchain/lib/python3.10/site-packages (0.0.298)\n",
      "Requirement already satisfied: PyYAML>=5.3 in /root/miniconda3/envs/langchain/lib/python3.10/site-packages (from langchain) (6.0)\n",
      "Requirement already satisfied: langsmith<0.1.0,>=0.0.38 in /root/miniconda3/envs/langchain/lib/python3.10/site-packages (from langchain) (0.0.39)\n",
      "Requirement already satisfied: dataclasses-json<0.7,>=0.5.7 in /root/miniconda3/envs/langchain/lib/python3.10/site-packages (from langchain) (0.5.7)\n",
      "Requirement already satisfied: requests<3,>=2 in /root/miniconda3/envs/langchain/lib/python3.10/site-packages (from langchain) (2.31.0)\n",
      "Requirement already satisfied: numpy<2,>=1 in /root/miniconda3/envs/langchain/lib/python3.10/site-packages (from langchain) (1.23.5)\n",
      "Requirement already satisfied: tenacity<9.0.0,>=8.1.0 in /root/miniconda3/envs/langchain/lib/python3.10/site-packages (from langchain) (8.2.2)\n",
      "Requirement already satisfied: SQLAlchemy<3,>=1.4 in /root/miniconda3/envs/langchain/lib/python3.10/site-packages (from langchain) (1.4.41)\n",
      "Requirement already satisfied: numexpr<3.0.0,>=2.8.4 in /root/miniconda3/envs/langchain/lib/python3.10/site-packages (from langchain) (2.8.4)\n",
      "Requirement already satisfied: pydantic<3,>=1 in /root/miniconda3/envs/langchain/lib/python3.10/site-packages (from langchain) (1.10.8)\n",
      "Requirement already satisfied: async-timeout<5.0.0,>=4.0.0 in /root/miniconda3/envs/langchain/lib/python3.10/site-packages (from langchain) (4.0.2)\n",
      "Requirement already satisfied: aiohttp<4.0.0,>=3.8.3 in /root/miniconda3/envs/langchain/lib/python3.10/site-packages (from langchain) (3.8.5)\n",
      "Requirement already satisfied: multidict<7.0,>=4.5 in /root/miniconda3/envs/langchain/lib/python3.10/site-packages (from aiohttp<4.0.0,>=3.8.3->langchain) (6.0.4)\n",
      "Requirement already satisfied: frozenlist>=1.1.1 in /root/miniconda3/envs/langchain/lib/python3.10/site-packages (from aiohttp<4.0.0,>=3.8.3->langchain) (1.3.3)\n",
      "Requirement already satisfied: charset-normalizer<4.0,>=2.0 in /root/miniconda3/envs/langchain/lib/python3.10/site-packages (from aiohttp<4.0.0,>=3.8.3->langchain) (3.1.0)\n",
      "Requirement already satisfied: yarl<2.0,>=1.0 in /root/miniconda3/envs/langchain/lib/python3.10/site-packages (from aiohttp<4.0.0,>=3.8.3->langchain) (1.9.2)\n",
      "Requirement already satisfied: attrs>=17.3.0 in /root/miniconda3/envs/langchain/lib/python3.10/site-packages (from aiohttp<4.0.0,>=3.8.3->langchain) (23.1.0)\n",
      "Requirement already satisfied: aiosignal>=1.1.2 in /root/miniconda3/envs/langchain/lib/python3.10/site-packages (from aiohttp<4.0.0,>=3.8.3->langchain) (1.3.1)\n",
      "Requirement already satisfied: marshmallow-enum<2.0.0,>=1.5.1 in /root/miniconda3/envs/langchain/lib/python3.10/site-packages (from dataclasses-json<0.7,>=0.5.7->langchain) (1.5.1)\n",
      "Requirement already satisfied: marshmallow<4.0.0,>=3.3.0 in /root/miniconda3/envs/langchain/lib/python3.10/site-packages (from dataclasses-json<0.7,>=0.5.7->langchain) (3.19.0)\n",
      "Requirement already satisfied: typing-inspect>=0.4.0 in /root/miniconda3/envs/langchain/lib/python3.10/site-packages (from dataclasses-json<0.7,>=0.5.7->langchain) (0.9.0)\n",
      "Requirement already satisfied: typing-extensions>=4.2.0 in /root/miniconda3/envs/langchain/lib/python3.10/site-packages (from pydantic<3,>=1->langchain) (4.6.2)\n",
      "Requirement already satisfied: certifi>=2017.4.17 in /root/miniconda3/envs/langchain/lib/python3.10/site-packages (from requests<3,>=2->langchain) (2023.5.7)\n",
      "Requirement already satisfied: urllib3<3,>=1.21.1 in /root/miniconda3/envs/langchain/lib/python3.10/site-packages (from requests<3,>=2->langchain) (1.26.16)\n",
      "Requirement already satisfied: idna<4,>=2.5 in /root/miniconda3/envs/langchain/lib/python3.10/site-packages (from requests<3,>=2->langchain) (3.4)\n",
      "Requirement already satisfied: greenlet!=0.4.17 in /root/miniconda3/envs/langchain/lib/python3.10/site-packages (from SQLAlchemy<3,>=1.4->langchain) (2.0.2)\n",
      "Requirement already satisfied: packaging>=17.0 in /root/miniconda3/envs/langchain/lib/python3.10/site-packages (from marshmallow<4.0.0,>=3.3.0->dataclasses-json<0.7,>=0.5.7->langchain) (23.1)\n",
      "Requirement already satisfied: mypy-extensions>=0.3.0 in /root/miniconda3/envs/langchain/lib/python3.10/site-packages (from typing-inspect>=0.4.0->dataclasses-json<0.7,>=0.5.7->langchain) (1.0.0)\n",
      "\u001b[33mWARNING: Running pip as the 'root' user can result in broken permissions and conflicting behaviour with the system package manager. It is recommended to use a virtual environment instead: https://pip.pypa.io/warnings/venv\u001b[0m\u001b[33m\n",
      "\u001b[0m"
     ]
    }
   ],
   "source": [
    "# 安装最新版本的 LangChain Python SDK（https://github.com/langchain-ai/langchain）\n",
    "!pip install -U langchain"
   ]
  },
  {
   "cell_type": "markdown",
   "id": "ce4a2474-0b69-4830-85cd-3715c22df304",
   "metadata": {},
   "source": [
    "## 模型输入 Prompts\n",
    "\n",
    "一个语言模型的提示是用户提供的一组指令或输入，用于引导模型的响应，帮助它理解上下文并生成相关和连贯的基于语言的输出，例如回答问题、完成句子或进行对话。\n",
    "\n",
    "\n",
    "- 提示模板（Prompt Templates）：参数化的模型输入\n",
    "- 示例选择器（Example Selectors）：动态选择要包含在提示中的示例\n"
   ]
  },
  {
   "cell_type": "markdown",
   "id": "1f14f4cf-8e30-47ab-b8b1-d58a90b5b1c1",
   "metadata": {},
   "source": [
    "## 提示模板 Prompt Templates\n",
    "\n",
    "**Prompt Templates 提供了一种预定义、动态注入、模型无关和参数化的提示词生成方式，以便在不同的语言模型之间重用模板。**\n",
    "\n",
    "一个模板可能包括指令、少量示例以及适用于特定任务的具体背景和问题。\n",
    "\n",
    "通常，提示要么是一个字符串（LLMs），要么是一组聊天消息（Chat Model）。\n",
    "\n",
    "\n",
    "类继承关系:\n",
    "\n",
    "```\n",
    "BasePromptTemplate --> PipelinePromptTemplate\n",
    "                       StringPromptTemplate --> PromptTemplate\n",
    "                                                FewShotPromptTemplate\n",
    "                                                FewShotPromptWithTemplates\n",
    "                       BaseChatPromptTemplate --> AutoGPTPrompt\n",
    "                                                  ChatPromptTemplate --> AgentScratchPadChatPromptTemplate\n",
    "\n",
    "\n",
    "\n",
    "BaseMessagePromptTemplate --> MessagesPlaceholder\n",
    "                              BaseStringMessagePromptTemplate --> ChatMessagePromptTemplate\n",
    "                                                                  HumanMessagePromptTemplate\n",
    "                                                                  AIMessagePromptTemplate\n",
    "                                                                  SystemMessagePromptTemplate\n",
    "\n",
    "PromptValue --> StringPromptValue\n",
    "                ChatPromptValue\n",
    "```\n",
    "\n",
    "\n",
    "**代码实现：https://github.com/langchain-ai/langchain/blob/master/libs/langchain/langchain/prompts**\n",
    "\n"
   ]
  },
  {
   "cell_type": "markdown",
   "id": "a40c4a43-530b-4ee1-af40-e2c90c0c8c66",
   "metadata": {},
   "source": [
    "### 使用 PromptTemplate 类生成提升词\n",
    "\n",
    "**通常，`PromptTemplate` 类的实例，使用Python的`str.format`语法生成模板化提示；也可以使用其他模板语法（例如jinja2）。**\n",
    "\n",
    "#### 使用 from_template 方法实例化 PromptTemplate"
   ]
  },
  {
   "cell_type": "code",
   "execution_count": 1,
   "id": "8d681566-cde1-4ae5-8cd7-f53cf59c3e36",
   "metadata": {},
   "outputs": [
    {
     "name": "stdout",
     "output_type": "stream",
     "text": [
      "Tell me a funny joke about chickens.\n"
     ]
    }
   ],
   "source": [
    "from langchain import PromptTemplate\n",
    "\n",
    "prompt_template = PromptTemplate.from_template(\n",
    "    \"Tell me a {adjective} joke about {content}.\"\n",
    ")\n",
    "\n",
    "# 使用 format 生成提示\n",
    "prompt = prompt_template.format(adjective=\"funny\", content=\"chickens\")\n",
    "print(prompt)"
   ]
  },
  {
   "cell_type": "code",
   "execution_count": 2,
   "id": "f09e2b7f-d1e1-4cc3-bf9b-22de07df5513",
   "metadata": {},
   "outputs": [
    {
     "name": "stdout",
     "output_type": "stream",
     "text": [
      "input_variables=['adjective', 'content'] template='Tell me a {adjective} joke about {content}.'\n"
     ]
    }
   ],
   "source": [
    "print(prompt_template)"
   ]
  },
  {
   "cell_type": "code",
   "execution_count": 3,
   "id": "7c329075-0a6a-4d17-9cc3-081be37f7917",
   "metadata": {},
   "outputs": [
    {
     "name": "stdout",
     "output_type": "stream",
     "text": [
      "Tell me a joke\n"
     ]
    }
   ],
   "source": [
    "prompt_template = PromptTemplate.from_template(\n",
    "    \"Tell me a joke\"\n",
    ")\n",
    "# 生成提示\n",
    "prompt = prompt_template.format()\n",
    "print(prompt)"
   ]
  },
  {
   "cell_type": "markdown",
   "id": "13696d97-9c8f-4530-92ec-a9cdf2012bf7",
   "metadata": {},
   "source": [
    "#### 使用构造函数（Initializer）实例化 PromptTemplate\n",
    "\n",
    "使用构造函数实例化 `prompt_template` 时必须传入参数：`input_variables` 和 `template`。\n",
    "\n",
    "在生成提示过程中，会检查输入变量与模板字符串中的变量是否匹配，如果不匹配，则会引发异常；"
   ]
  },
  {
   "cell_type": "code",
   "execution_count": 7,
   "id": "10e7686a-dcca-4410-9263-6e941bee9c55",
   "metadata": {},
   "outputs": [],
   "source": [
    "invalid_prompt = PromptTemplate(\n",
    "    input_variables=[\"adjective\"],\n",
    "    template=\"Tell me a {adjective} joke about {content}.\"\n",
    ")"
   ]
  },
  {
   "cell_type": "code",
   "execution_count": 11,
   "id": "d1314f15-2734-4a29-884c-4cef0b57c92f",
   "metadata": {},
   "outputs": [
    {
     "name": "stdout",
     "output_type": "stream",
     "text": [
      "input_variables=['adjective', 'content'] template='Tell me a {adjective} joke about {content}.'\n"
     ]
    }
   ],
   "source": [
    "print(invalid_prompt)"
   ]
  },
  {
   "cell_type": "markdown",
   "id": "6d39cd8e-99a9-4d57-aff9-0cbc673336df",
   "metadata": {},
   "source": [
    "传入 content 后才能生成可用的 prompt"
   ]
  },
  {
   "cell_type": "code",
   "execution_count": 10,
   "id": "49767dc4-2057-4fee-8fb0-24436194c8d1",
   "metadata": {},
   "outputs": [],
   "source": [
    "valid_prompt = PromptTemplate(\n",
    "    input_variables=[\"adjective\", \"content\"],\n",
    "    template=\"Tell me a {adjective} joke about {content}.\"\n",
    ")"
   ]
  },
  {
   "cell_type": "code",
   "execution_count": 12,
   "id": "516cee06-9673-4c9d-9499-1355034ad82a",
   "metadata": {},
   "outputs": [
    {
     "name": "stdout",
     "output_type": "stream",
     "text": [
      "input_variables=['adjective', 'content'] template='Tell me a {adjective} joke about {content}.'\n"
     ]
    }
   ],
   "source": [
    "print(valid_prompt)"
   ]
  },
  {
   "cell_type": "code",
   "execution_count": 13,
   "id": "55c7a677-4ae8-4c81-829c-49fd597c45bc",
   "metadata": {},
   "outputs": [
    {
     "data": {
      "text/plain": [
       "'Tell me a funny joke about chickens.'"
      ]
     },
     "execution_count": 13,
     "metadata": {},
     "output_type": "execute_result"
    }
   ],
   "source": [
    "valid_prompt.format(adjective=\"funny\", content=\"chickens\")"
   ]
  },
  {
   "cell_type": "code",
   "execution_count": 14,
   "id": "754269b1-a2a7-487e-85b3-3be916be581e",
   "metadata": {},
   "outputs": [],
   "source": [
    "prompt_template = PromptTemplate.from_template(\n",
    "    \"讲{num}个给程序员听得笑话\"\n",
    ")"
   ]
  },
  {
   "cell_type": "code",
   "execution_count": 15,
   "id": "bc708563-8556-466d-9ea5-9f41c8e6a7f9",
   "metadata": {},
   "outputs": [
    {
     "name": "stdout",
     "output_type": "stream",
     "text": [
      "prompt: 讲2个给程序员听得笑话\n",
      "result: \n",
      "\n",
      "1、一个程序员把他的电脑拿到电脑店去修理，店主对他说：“你的电脑是用来玩游戏的吗？”程序员说：“我不是用它来玩游戏，我用它来写Bug！”\n",
      "\n",
      "2、一个程序员给他的女朋友买了一台新电脑，他朋友说：“你为什么这么慷慨？”程序员说：“因为我要让她也有自己的调试环境！”\n"
     ]
    }
   ],
   "source": [
    "from langchain.llms import OpenAI\n",
    "\n",
    "llm = OpenAI(model_name=\"text-davinci-003\", max_tokens=1000)\n",
    "\n",
    "prompt = prompt_template.format(num=2)\n",
    "print(f\"prompt: {prompt}\")\n",
    "\n",
    "result = llm(prompt)\n",
    "print(f\"result: {result}\")"
   ]
  },
  {
   "cell_type": "code",
   "execution_count": 16,
   "id": "5c6dd3ea-084a-4426-bba0-2676d42842c7",
   "metadata": {},
   "outputs": [
    {
     "name": "stdout",
     "output_type": "stream",
     "text": [
      "\n",
      "\n",
      "1. 一个程序员正在编程，突然有人敲门，他回头一看，原来是他爸爸，他就把自己的笔记本电脑关掉，爸爸问：你在干什么？程序员说：我在删除病毒。\n",
      "\n",
      "2. 一个程序员正在加班，他突然听到一个声音说：“可以回家了吗？”他回头一看，发现是他的电脑里的一个小程序在问他。\n",
      "\n",
      "3. 一个程序员给他的老板发了一封电子邮件，老板回复：“谢谢！你真是个有灵魂的机器！”程序员回复：“恩，我有灵魂，但没有开发文档！”\n"
     ]
    }
   ],
   "source": [
    "print(llm(prompt_template.format(num=3)))"
   ]
  },
  {
   "cell_type": "markdown",
   "id": "1890a0b3-c5af-4d0e-b1a1-3439f3199edc",
   "metadata": {},
   "source": [
    "#### 使用 jinja2 生成模板化提示"
   ]
  },
  {
   "cell_type": "code",
   "execution_count": 17,
   "id": "4e98620d-3462-4a7d-b9ef-1a9a0fd1f496",
   "metadata": {},
   "outputs": [
    {
     "data": {
      "text/plain": [
       "'Tell me a funny joke about chickens'"
      ]
     },
     "execution_count": 17,
     "metadata": {},
     "output_type": "execute_result"
    }
   ],
   "source": [
    "jinja2_template = \"Tell me a {{ adjective }} joke about {{ content }}\"\n",
    "prompt = PromptTemplate.from_template(jinja2_template, template_format=\"jinja2\")\n",
    "\n",
    "prompt.format(adjective=\"funny\", content=\"chickens\")"
   ]
  },
  {
   "cell_type": "code",
   "execution_count": 18,
   "id": "3b707a3f-c6c1-4aa1-9ad2-4067c0430e26",
   "metadata": {},
   "outputs": [
    {
     "name": "stdout",
     "output_type": "stream",
     "text": [
      "input_variables=['adjective', 'content'] template='Tell me a {{ adjective }} joke about {{ content }}' template_format='jinja2'\n"
     ]
    }
   ],
   "source": [
    "print(prompt)"
   ]
  },
  {
   "cell_type": "markdown",
   "id": "c34c3078-3ece-4708-8bf8-cdc02968ea70",
   "metadata": {},
   "source": [
    "#### 实测：生成多种编程语言版本的快速排序"
   ]
  },
  {
   "cell_type": "code",
   "execution_count": 19,
   "id": "c73de848-8091-4ebd-9127-ea33582bad79",
   "metadata": {},
   "outputs": [],
   "source": [
    "sort_prompt_template = PromptTemplate.from_template(\n",
    "    \"生成可执行的快速排序 {programming_language} 代码\"\n",
    ")"
   ]
  },
  {
   "cell_type": "code",
   "execution_count": 20,
   "id": "f3c2ee81-80aa-4ad9-b936-8c2e1b2ba27e",
   "metadata": {},
   "outputs": [
    {
     "name": "stdout",
     "output_type": "stream",
     "text": [
      "\n",
      "\n",
      "def quick_sort(arr): \n",
      "    if len(arr) <= 1:\n",
      "        return arr\n",
      "    pivot = arr[len(arr) // 2]\n",
      "    left = [x for x in arr if x < pivot]\n",
      "    middle = [x for x in arr if x == pivot]\n",
      "    right = [x for x in arr if x > pivot]\n",
      "    return quick_sort(left) + middle + quick_sort(right)\n",
      "\n",
      "print(quick_sort([3,6,8,10,1,2,1]))\n"
     ]
    }
   ],
   "source": [
    "print(llm(sort_prompt_template.format(programming_language=\"python\")))"
   ]
  },
  {
   "cell_type": "code",
   "execution_count": 21,
   "id": "ba3b370e-a647-4913-b4a0-c33d4dd11e35",
   "metadata": {},
   "outputs": [
    {
     "name": "stdout",
     "output_type": "stream",
     "text": [
      "：\n",
      "\n",
      "public class QuickSort {\n",
      "    public static void quickSort(int[] arr, int low, int high) {\n",
      "        if (arr == null || arr.length == 0)\n",
      "            return;\n",
      " \n",
      "        if (low >= high)\n",
      "            return;\n",
      " \n",
      "        // pick the pivot\n",
      "        int middle = low + (high - low) / 2;\n",
      "        int pivot = arr[middle];\n",
      " \n",
      "        // make left < pivot and right > pivot\n",
      "        int i = low, j = high;\n",
      "        while (i <= j) {\n",
      "            while (arr[i] < pivot) {\n",
      "                i++;\n",
      "            }\n",
      " \n",
      "            while (arr[j] > pivot) {\n",
      "                j--;\n",
      "            }\n",
      " \n",
      "            if (i <= j) {\n",
      "                int temp = arr[i];\n",
      "                arr[i] = arr[j];\n",
      "                arr[j] = temp;\n",
      "                i++;\n",
      "                j--;\n",
      "            }\n",
      "        }\n",
      " \n",
      "        // recursively sort two sub parts\n",
      "        if (low < j)\n",
      "            quickSort(arr, low, j);\n",
      " \n",
      "        if (high > i)\n",
      "            quickSort(arr, i, high);\n",
      "    }\n",
      " \n",
      "    public static void main(String[] args) {\n",
      "        int[] arr = {10,9,8,7,6,5,4,3,2,1};\n",
      "        quickSort(arr, 0, arr.length - 1);\n",
      "    }\n",
      "}\n"
     ]
    }
   ],
   "source": [
    "print(llm(sort_prompt_template.format(programming_language=\"java\")))"
   ]
  },
  {
   "cell_type": "code",
   "execution_count": 22,
   "id": "10ef61ce-af9f-40d6-970e-cdacc4d4736a",
   "metadata": {},
   "outputs": [
    {
     "name": "stdout",
     "output_type": "stream",
     "text": [
      "\n",
      "\n",
      "```cpp\n",
      "#include <iostream>\n",
      "\n",
      "using namespace std;\n",
      "\n",
      "// 快速排序函数\n",
      "void quickSort(int arr[], int left, int right) {\n",
      "    int i = left, j = right;\n",
      "    int tmp;\n",
      "    int pivot = arr[(left + right) / 2];\n",
      "\n",
      "    /* partition */\n",
      "    while (i <= j) {\n",
      "        while (arr[i] < pivot)\n",
      "            i++;\n",
      "        while (arr[j] > pivot)\n",
      "            j--;\n",
      "        if (i <= j) {\n",
      "            tmp = arr[i];\n",
      "            arr[i] = arr[j];\n",
      "            arr[j] = tmp;\n",
      "            i++;\n",
      "            j--;\n",
      "        }\n",
      "    };\n",
      "\n",
      "    /* recursion */\n",
      "    if (left < j)\n",
      "        quickSort(arr, left, j);\n",
      "    if (i < right)\n",
      "        quickSort(arr, i, right);\n",
      "}\n",
      "\n",
      "int main() {\n",
      "    int arr[] = {6, 4, 2, 8, 5, 9, 1, 3, 7};\n",
      "    int len = sizeof(arr) / sizeof(*arr);\n",
      "\n",
      "    // 调用快速排序函数\n",
      "    quickSort(arr, 0, len - 1);\n",
      "\n",
      "    cout << \"排序结果：\";\n",
      "    for (int i = 0; i < len; i++) {\n",
      "        cout << arr[i] << \" \";\n",
      "    }\n",
      "    cout << endl;\n",
      "\n",
      "    return 0;\n",
      "}\n",
      "```\n"
     ]
    }
   ],
   "source": [
    "print(llm(sort_prompt_template.format(programming_language=\"C++\")))"
   ]
  },
  {
   "cell_type": "markdown",
   "id": "621af4b1-0337-428a-bc88-17f1ff1f876e",
   "metadata": {},
   "source": [
    "## 使用 ChatPromptTemplate 类生成适用于聊天模型的聊天记录\n",
    "\n",
    "**`ChatPromptTemplate` 类的实例，使用`format_messages`方法生成适用于聊天模型的提示。**\n",
    "\n",
    "### 使用 from_messages 方法实例化 ChatPromptTemplate"
   ]
  },
  {
   "cell_type": "code",
   "execution_count": 23,
   "id": "875c8534-7317-4111-9658-80a926458168",
   "metadata": {},
   "outputs": [],
   "source": [
    "from langchain.prompts import ChatPromptTemplate\n",
    "\n",
    "template = ChatPromptTemplate.from_messages([\n",
    "    (\"system\", \"You are a helpful AI bot. Your name is {name}.\"),\n",
    "    (\"human\", \"Hello, how are you doing?\"),\n",
    "    (\"ai\", \"I'm doing well, thanks!\"),\n",
    "    (\"human\", \"{user_input}\"),\n",
    "])\n",
    "\n",
    "# 生成提示\n",
    "messages = template.format_messages(\n",
    "    name=\"Bob\",\n",
    "    user_input=\"What is your name?\"\n",
    ")"
   ]
  },
  {
   "cell_type": "code",
   "execution_count": 24,
   "id": "ceb1c89b-c71a-4e7c-bf81-2f2a5ddcf80e",
   "metadata": {},
   "outputs": [
    {
     "name": "stdout",
     "output_type": "stream",
     "text": [
      "[SystemMessage(content='You are a helpful AI bot. Your name is Bob.'), HumanMessage(content='Hello, how are you doing?'), AIMessage(content=\"I'm doing well, thanks!\"), HumanMessage(content='What is your name?')]\n"
     ]
    }
   ],
   "source": [
    "print(messages)"
   ]
  },
  {
   "cell_type": "code",
   "execution_count": 26,
   "id": "a99257dd-3dad-48bd-9c75-1ab9348179ff",
   "metadata": {},
   "outputs": [
    {
     "name": "stdout",
     "output_type": "stream",
     "text": [
      "You are a helpful AI bot. Your name is Bob.\n",
      "What is your name?\n"
     ]
    }
   ],
   "source": [
    "print(messages[0].content)\n",
    "print(messages[-1].content)"
   ]
  },
  {
   "cell_type": "code",
   "execution_count": 27,
   "id": "feba7a9c-d3c3-418c-8ee7-b033c3da1929",
   "metadata": {},
   "outputs": [],
   "source": [
    "from langchain.chat_models import ChatOpenAI\n",
    "chat_model = ChatOpenAI(model_name=\"gpt-3.5-turbo\", max_tokens=1000)"
   ]
  },
  {
   "cell_type": "code",
   "execution_count": 28,
   "id": "40342d2c-43f1-4bce-ae06-0dda2fdea608",
   "metadata": {},
   "outputs": [
    {
     "data": {
      "text/plain": [
       "AIMessage(content='My name is Bob. How can I assist you today?')"
      ]
     },
     "execution_count": 28,
     "metadata": {},
     "output_type": "execute_result"
    }
   ],
   "source": [
    "chat_model(messages)"
   ]
  },
  {
   "cell_type": "markdown",
   "id": "70a095b3-3e0d-4a05-9cea-620a6155be22",
   "metadata": {},
   "source": [
    "### 摘要总结"
   ]
  },
  {
   "cell_type": "code",
   "execution_count": 29,
   "id": "fe696871-bc41-48f3-b41b-43bb9f9ddcc9",
   "metadata": {},
   "outputs": [],
   "source": [
    "summary_template = ChatPromptTemplate.from_messages([\n",
    "    (\"system\", \"你将获得关于同一主题的{num}篇文章（用-----------标签分隔）。首先总结每篇文章的论点。然后指出哪篇文章提出了更好的论点，并解释原因。\"),\n",
    "    (\"human\", \"{user_input}\"),\n",
    "])"
   ]
  },
  {
   "cell_type": "code",
   "execution_count": 30,
   "id": "5c1d1c65-fd90-48d0-88eb-3eb1cade5387",
   "metadata": {},
   "outputs": [],
   "source": [
    "messages = summary_template.format_messages(\n",
    "    num=3,\n",
    "    user_input='''1. [PHP是世界上最好的语言]\n",
    "PHP是世界上最好的情感派编程语言，无需逻辑和算法，只要情绪。它能被蛰伏在冰箱里的PHP大神轻易驾驭，会话结束后的感叹号也能传达对代码的热情。写PHP就像是在做披萨，不需要想那么多，只需把配料全部扔进一个碗，然后放到服务器上，热乎乎出炉的网页就好了。\n",
    "-----------\n",
    "2. [Python是世界上最好的语言]\n",
    "Python是世界上最好的拜金主义者语言。它坚信：美丽就是力量，简洁就是灵魂。Python就像是那个永远在你皱眉的那一刻扔给你言情小说的好友。只有Python，你才能够在两行代码之间感受到飘逸的花香和清新的微风。记住，这世上只有一种语言可以使用空格来领导全世界的进步，那就是Python。\n",
    "-----------\n",
    "3. [Java是世界上最好的语言]\n",
    "Java是世界上最好的德育课编程语言，它始终坚守了严谨、安全的编程信条。Java就像一个严格的老师，他不会对你怀柔，不会让你偷懒，也不会让你走捷径，但他教会你规范和自律。Java就像是那个喝咖啡也算加班费的上司，拥有对邪恶的深度厌恶和对善良的深度拥护。\n",
    "'''\n",
    ")"
   ]
  },
  {
   "cell_type": "code",
   "execution_count": 31,
   "id": "e0042c49-3a75-4098-9037-eb54f288b55f",
   "metadata": {},
   "outputs": [
    {
     "name": "stdout",
     "output_type": "stream",
     "text": [
      "1. [PHP是世界上最好的语言]\n",
      "PHP是世界上最好的情感派编程语言，无需逻辑和算法，只要情绪。它能被蛰伏在冰箱里的PHP大神轻易驾驭，会话结束后的感叹号也能传达对代码的热情。写PHP就像是在做披萨，不需要想那么多，只需把配料全部扔进一个碗，然后放到服务器上，热乎乎出炉的网页就好了。\n",
      "-----------\n",
      "2. [Python是世界上最好的语言]\n",
      "Python是世界上最好的拜金主义者语言。它坚信：美丽就是力量，简洁就是灵魂。Python就像是那个永远在你皱眉的那一刻扔给你言情小说的好友。只有Python，你才能够在两行代码之间感受到飘逸的花香和清新的微风。记住，这世上只有一种语言可以使用空格来领导全世界的进步，那就是Python。\n",
      "-----------\n",
      "3. [Java是世界上最好的语言]\n",
      "Java是世界上最好的德育课编程语言，它始终坚守了严谨、安全的编程信条。Java就像一个严格的老师，他不会对你怀柔，不会让你偷懒，也不会让你走捷径，但他教会你规范和自律。Java就像是那个喝咖啡也算加班费的上司，拥有对邪恶的深度厌恶和对善良的深度拥护。\n",
      "\n"
     ]
    }
   ],
   "source": [
    "print(messages[-1].content)"
   ]
  },
  {
   "cell_type": "code",
   "execution_count": 32,
   "id": "fee264c1-941b-42b5-a737-9320eb4f5d71",
   "metadata": {},
   "outputs": [],
   "source": [
    "chat_result = chat_model(messages)"
   ]
  },
  {
   "cell_type": "code",
   "execution_count": 33,
   "id": "92ada5fc-bee1-4e66-9f87-7d454491108a",
   "metadata": {},
   "outputs": [
    {
     "name": "stdout",
     "output_type": "stream",
     "text": [
      "1. PHP是世界上最好的语言，因为它不需要逻辑和算法，只需要情感，使得编程变得简单且有趣。\n",
      "2. Python是世界上最好的语言，因为它的美学和简洁性使得编码变得轻松且优雅。\n",
      "3. Java是世界上最好的语言，因为它强调严谨和安全，教会程序员规范和自律。\n",
      "\n",
      "其中，我认为文章2提出了更好的论点。原因是Python的美学和简洁性确实是它的优势，使得编码变得轻松且优雅。相比之下，PHP只强调情感而忽略了逻辑和算法，而Java则过于严谨和安全，可能会限制创造力。Python的简洁性和灵活性使得它成为许多程序员的首选语言。\n"
     ]
    }
   ],
   "source": [
    "print(chat_result.content)"
   ]
  },
  {
   "cell_type": "code",
   "execution_count": 34,
   "id": "dc089de4-84e1-4d50-91e5-6d49ade2cea1",
   "metadata": {},
   "outputs": [
    {
     "name": "stdout",
     "output_type": "stream",
     "text": [
      "[SystemMessage(content='你将获得关于同一主题的2篇文章（用-----------标签分隔）。首先总结每篇文章的论点。然后指出哪篇文章提出了更好的论点，并解释原因。'), HumanMessage(content='1.认为“道可道”中的第一个“道”，指的是道理，如仁义礼智之类；“可道”中的“道”，指言说的意思；“常道”，指恒久存在的“道”。因此，所谓“道可道，非常道”，指的是可以言说的道理，不是恒久存在的“道”，恒久存在的“道”不可言说。如苏辙说：“莫非道也。而可道者不可常，惟不可道，而后可常耳。今夫仁义礼智，此道之可道者也。然而仁不可以为义，而礼不可以为智，可道之不可常如此。……而道常不变，不可道之能常如此。”蒋锡昌说：“此道为世人所习称之道，即今人所谓‘道理’也，第一‘道’字应从是解。《广雅·释诂》二：‘道，说也’，第二‘道’字应从是解。‘常’乃真常不易之义，在文法上为区别词。……第三‘道’字即二十五章‘道法自然’之‘道’，……乃老子学说之总名也”。陈鼓应说：“第一个‘道’字是人们习称之道，即今人所谓‘道理’。第二个‘道’字，是指言说的意思。第三个‘道’字，是老子哲学上的专有名词，在本章它意指构成宇宙的实体与动力。……‘常道’之‘常’，为真常、永恒之意。……可以用言词表达的道，就不是常道”。\\n-----------\\n2.认为“道可道”中的第一个“道”，指的是宇宙万物的本原；“可道”中的“道”，指言说的意思；“常道”，指恒久存在的“道”。因此，“道可道，非常道”，指可以言说的“道”，就不是恒久存在的“道”。如张默生说：“‘道’，指宇宙的本体而言。……‘常’，是经常不变的意思。……可以说出来的道，便不是经常不变的道”。董平说：“第一个‘道’字与‘可道’之‘道’，内涵并不相同。第一个‘道’字，是老子所揭示的作为宇宙本根之‘道’；‘可道’之‘道’，则是‘言说’的意思。……这里的大意就是说：凡一切可以言说之‘道’，都不是‘常道’或永恒之‘道’”。汤漳平等说：“第一句中的三个‘道’，第一、三均指形上之‘道’，中间的‘道’作动词，为可言之义。……道可知而可行，但非恒久不变之道”。\\n--------\\n3.认为“道可道”中的第一个“道”，指的是宇宙万物的本原；“可道”中的“道”，指言说的意思；“常道”，则指的是平常人所讲之道、常俗之道。因此，“道可道，非常道”，指“道”是可以言说的，但它不是平常人所谓的道或常俗之道。如李荣说：“道者，虚极之理也。夫论虚极之理，不可以有无分其象，不可以上下格其真。……圣人欲坦兹玄路，开以教门，借圆通之名，目虚极之理，以理可名，称之可道。故曰‘吾不知其名，字之曰道’。非常道者，非是人间常俗之道也。人间常俗之道，贵之以礼义，尚之以浮华，丧身以成名，忘己而徇利。”司马光说：“世俗之谈道者，皆曰道体微妙，不可名言。老子以为不然，曰道亦可言道耳，然非常人之所谓道也。……常人之所谓道者，凝滞于物。”裘锡圭说：“到目前为止，可以说，几乎从战国开始，大家都把‘可道’之‘道’……看成老子所否定的，把‘常道’‘常名’看成老子所肯定的。这种看法其实有它不合理的地方，……‘道’是可以说的。《老子》这个《道经》第一章，开宗明义是要讲他的‘道’。第一个‘道’字，理所应当，也是讲他要讲的‘道’：道是可以言说的。……那么这个‘恒’字应该怎么讲？我认为很简单，‘恒’字在古代作定语用，经常是‘平常’‘恒常’的意思。……‘道’是可以言说的，但是我要讲的这个‘道’，不是‘恒道’，它不是一般人所讲的‘道’。\\n')]\n"
     ]
    }
   ],
   "source": [
    "messages = summary_template.format_messages(\n",
    "    num=2,\n",
    "    user_input='''1.认为“道可道”中的第一个“道”，指的是道理，如仁义礼智之类；“可道”中的“道”，指言说的意思；“常道”，指恒久存在的“道”。因此，所谓“道可道，非常道”，指的是可以言说的道理，不是恒久存在的“道”，恒久存在的“道”不可言说。如苏辙说：“莫非道也。而可道者不可常，惟不可道，而后可常耳。今夫仁义礼智，此道之可道者也。然而仁不可以为义，而礼不可以为智，可道之不可常如此。……而道常不变，不可道之能常如此。”蒋锡昌说：“此道为世人所习称之道，即今人所谓‘道理’也，第一‘道’字应从是解。《广雅·释诂》二：‘道，说也’，第二‘道’字应从是解。‘常’乃真常不易之义，在文法上为区别词。……第三‘道’字即二十五章‘道法自然’之‘道’，……乃老子学说之总名也”。陈鼓应说：“第一个‘道’字是人们习称之道，即今人所谓‘道理’。第二个‘道’字，是指言说的意思。第三个‘道’字，是老子哲学上的专有名词，在本章它意指构成宇宙的实体与动力。……‘常道’之‘常’，为真常、永恒之意。……可以用言词表达的道，就不是常道”。\n",
    "-----------\n",
    "2.认为“道可道”中的第一个“道”，指的是宇宙万物的本原；“可道”中的“道”，指言说的意思；“常道”，指恒久存在的“道”。因此，“道可道，非常道”，指可以言说的“道”，就不是恒久存在的“道”。如张默生说：“‘道’，指宇宙的本体而言。……‘常’，是经常不变的意思。……可以说出来的道，便不是经常不变的道”。董平说：“第一个‘道’字与‘可道’之‘道’，内涵并不相同。第一个‘道’字，是老子所揭示的作为宇宙本根之‘道’；‘可道’之‘道’，则是‘言说’的意思。……这里的大意就是说：凡一切可以言说之‘道’，都不是‘常道’或永恒之‘道’”。汤漳平等说：“第一句中的三个‘道’，第一、三均指形上之‘道’，中间的‘道’作动词，为可言之义。……道可知而可行，但非恒久不变之道”。\n",
    "--------\n",
    "3.认为“道可道”中的第一个“道”，指的是宇宙万物的本原；“可道”中的“道”，指言说的意思；“常道”，则指的是平常人所讲之道、常俗之道。因此，“道可道，非常道”，指“道”是可以言说的，但它不是平常人所谓的道或常俗之道。如李荣说：“道者，虚极之理也。夫论虚极之理，不可以有无分其象，不可以上下格其真。……圣人欲坦兹玄路，开以教门，借圆通之名，目虚极之理，以理可名，称之可道。故曰‘吾不知其名，字之曰道’。非常道者，非是人间常俗之道也。人间常俗之道，贵之以礼义，尚之以浮华，丧身以成名，忘己而徇利。”司马光说：“世俗之谈道者，皆曰道体微妙，不可名言。老子以为不然，曰道亦可言道耳，然非常人之所谓道也。……常人之所谓道者，凝滞于物。”裘锡圭说：“到目前为止，可以说，几乎从战国开始，大家都把‘可道’之‘道’……看成老子所否定的，把‘常道’‘常名’看成老子所肯定的。这种看法其实有它不合理的地方，……‘道’是可以说的。《老子》这个《道经》第一章，开宗明义是要讲他的‘道’。第一个‘道’字，理所应当，也是讲他要讲的‘道’：道是可以言说的。……那么这个‘恒’字应该怎么讲？我认为很简单，‘恒’字在古代作定语用，经常是‘平常’‘恒常’的意思。……‘道’是可以言说的，但是我要讲的这个‘道’，不是‘恒道’，它不是一般人所讲的‘道’。\n",
    "'''\n",
    ")\n",
    "print(messages)"
   ]
  },
  {
   "cell_type": "code",
   "execution_count": 35,
   "id": "c048f55c-72f7-463d-af87-9aca561ddf4b",
   "metadata": {},
   "outputs": [
    {
     "name": "stdout",
     "output_type": "stream",
     "text": [
      "第一篇文章的论点是，“道可道”中的第一个“道”指的是道理，可道指言说的意思，“常道”指恒久存在的道。因此，“道可道，非常道”指的是可以言说的道理，并不是恒久存在的道。第二篇文章的论点是，“道可道”中的第一个“道”指的是宇宙万物的本原，“可道”指言说的意思，“常道”指恒久存在的道。因此，“道可道，非常道”指可以言说的道并不是恒久存在的道。\n",
      "\n",
      "第一篇文章提出了更好的论点。它通过解释“道可道”中每个“道”字的含义，分析了可以言说的道理和恒久存在的道的区别。它引用了不同学者的观点，并提供了他们的解释。这使得论点更加严谨和具有说服力。而第二篇文章则没有提供足够的解释和证据来支持论点，只是简单地列举了几位学者的观点。因此，第一篇文章提出了更好的论点。\n"
     ]
    }
   ],
   "source": [
    "chat_result = chat_model(messages)\n",
    "print(chat_result.content)"
   ]
  },
  {
   "cell_type": "code",
   "execution_count": 36,
   "id": "211d7fea-ff97-4c92-a478-f14be0cbd00b",
   "metadata": {},
   "outputs": [],
   "source": [
    "messages = summary_template.format_messages(\n",
    "    num=2,\n",
    "    user_input='''1.认为“道可道”中的第一个“道”，指的是道理，如仁义礼智之类；“可道”中的“道”，指言说的意思；“常道”，指恒久存在的“道”。因此，所谓“道可道，非常道”，指的是可以言说的道理，不是恒久存在的“道”，恒久存在的“道”不可言说。如苏辙说：“莫非道也。而可道者不可常，惟不可道，而后可常耳。今夫仁义礼智，此道之可道者也。然而仁不可以为义，而礼不可以为智，可道之不可常如此。……而道常不变，不可道之能常如此。”蒋锡昌说：“此道为世人所习称之道，即今人所谓‘道理’也，第一‘道’字应从是解。《广雅·释诂》二：‘道，说也’，第二‘道’字应从是解。‘常’乃真常不易之义，在文法上为区别词。……第三‘道’字即二十五章‘道法自然’之‘道’，……乃老子学说之总名也”。陈鼓应说：“第一个‘道’字是人们习称之道，即今人所谓‘道理’。第二个‘道’字，是指言说的意思。第三个‘道’字，是老子哲学上的专有名词，在本章它意指构成宇宙的实体与动力。……‘常道’之‘常’，为真常、永恒之意。……可以用言词表达的道，就不是常道”。\n",
    "-----------\n",
    "2.认为“道可道”中的第一个“道”，指的是宇宙万物的本原；“可道”中的“道”，指言说的意思；“常道”，指恒久存在的“道”。因此，“道可道，非常道”，指可以言说的“道”，就不是恒久存在的“道”。如张默生说：“‘道’，指宇宙的本体而言。……‘常’，是经常不变的意思。……可以说出来的道，便不是经常不变的道”。董平说：“第一个‘道’字与‘可道’之‘道’，内涵并不相同。第一个‘道’字，是老子所揭示的作为宇宙本根之‘道’；‘可道’之‘道’，则是‘言说’的意思。……这里的大意就是说：凡一切可以言说之‘道’，都不是‘常道’或永恒之‘道’”。汤漳平等说：“第一句中的三个‘道’，第一、三均指形上之‘道’，中间的‘道’作动词，为可言之义。……道可知而可行，但非恒久不变之道”。\n",
    "'''\n",
    ")"
   ]
  },
  {
   "cell_type": "code",
   "execution_count": 38,
   "id": "c524c96a-a754-47fd-bfc0-45aafd642d2d",
   "metadata": {},
   "outputs": [
    {
     "name": "stdout",
     "output_type": "stream",
     "text": [
      "第一篇文章的论点是，“道可道”中的第一个“道”指的是道理，如仁义礼智之类；“可道”中的“道”指言说的意思；“常道”指恒久存在的“道”。因此，“道可道，非常道”指的是可以言说的道理，并非恒久存在的道。\n",
      "\n",
      "第二篇文章的论点是，“道可道”中的第一个“道”指的是宇宙万物的本原；“可道”中的“道”指言说的意思；“常道”指恒久存在的道。因此，“道可道，非常道”指的是可以言说的道，并非恒久存在的道。\n",
      "\n",
      "根据这两篇文章的论点，第一篇文章提出了更好的论点。原因是第一篇文章在解释“道可道”和“非常道”时，更加清晰地说明了第一个“道”的含义是道理，而不是宇宙的本原。此外，第一篇文章还引用了多位学者的观点来支持自己的论点，增加了论证的可信度。\n"
     ]
    }
   ],
   "source": [
    "chat_result = chat_model(messages)\n",
    "print(chat_result.content)"
   ]
  },
  {
   "cell_type": "markdown",
   "id": "02f6280a-f38d-46f8-a5ff-06f98025f46e",
   "metadata": {},
   "source": [
    "### 使用 FewShotPromptTemplate 类生成 Few-shot Prompt \n",
    "\n",
    "构造 few-shot prompt 的方法通常有两种：\n",
    "- 从示例集（set of examples）中手动选择；\n",
    "- 通过示例选择器（Example Selector）自动选择."
   ]
  },
  {
   "cell_type": "code",
   "execution_count": 39,
   "id": "d086861b-b576-446e-bf2f-89544e500c22",
   "metadata": {},
   "outputs": [],
   "source": [
    "from langchain.prompts.prompt import PromptTemplate\n",
    "\n",
    "\n",
    "examples = [\n",
    "  {\n",
    "    \"question\": \"谁活得更久，穆罕默德·阿里还是艾伦·图灵？\",\n",
    "    \"answer\": \n",
    "\"\"\"\n",
    "这里需要进一步的问题吗：是的。\n",
    "追问：穆罕默德·阿里去世时多大了？\n",
    "中间答案：穆罕默德·阿里去世时74岁。\n",
    "追问：艾伦·图灵去世时多大了？\n",
    "中间答案：艾伦·图灵去世时41岁。\n",
    "所以最终答案是：穆罕默德·阿里\n",
    "\"\"\"\n",
    "  },\n",
    "  {\n",
    "    \"question\": \"craigslist的创始人是什么时候出生的？\",\n",
    "    \"answer\": \n",
    "\"\"\"\n",
    "这里需要进一步的问题吗：是的。\n",
    "追问：谁是craigslist的创始人？\n",
    "中间答案：Craigslist是由Craig Newmark创办的。\n",
    "追问：Craig Newmark是什么时候出生的？\n",
    "中间答案：Craig Newmark出生于1952年12月6日。\n",
    "所以最终答案是：1952年12月6日\n",
    "\"\"\"\n",
    "  },\n",
    "  {\n",
    "    \"question\": \"乔治·华盛顿的外祖父是谁？\",\n",
    "    \"answer\":\n",
    "\"\"\"\n",
    "这里需要进一步的问题吗：是的。\n",
    "追问：谁是乔治·华盛顿的母亲？\n",
    "中间答案：乔治·华盛顿的母亲是Mary Ball Washington。\n",
    "追问：Mary Ball Washington的父亲是谁？\n",
    "中间答案：Mary Ball Washington的父亲是Joseph Ball。\n",
    "所以最终答案是：Joseph Ball\n",
    "\"\"\"\n",
    "  },\n",
    "  {\n",
    "    \"question\": \"《大白鲨》和《皇家赌场》的导演是同一个国家的吗？\",\n",
    "    \"answer\":\n",
    "\"\"\"\n",
    "这里需要进一步的问题吗：是的。\n",
    "追问：谁是《大白鲨》的导演？\n",
    "中间答案：《大白鲨》的导演是Steven Spielberg。\n",
    "追问：Steven Spielberg来自哪里？\n",
    "中间答案：美国。\n",
    "追问：谁是《皇家赌场》的导演？\n",
    "中间答案：《皇家赌场》的导演是Martin Campbell。\n",
    "追问：Martin Campbell来自哪里？\n",
    "中间答案：新西兰。\n",
    "所以最终答案是：不是\n",
    "\"\"\"\n",
    "  }\n",
    "]"
   ]
  },
  {
   "cell_type": "code",
   "execution_count": 40,
   "id": "9a722158-fc50-4d34-827e-224e9f6e5e7d",
   "metadata": {},
   "outputs": [
    {
     "name": "stdout",
     "output_type": "stream",
     "text": [
      "Question: 谁活得更久，穆罕默德·阿里还是艾伦·图灵？\n",
      "\n",
      "这里需要进一步的问题吗：是的。\n",
      "追问：穆罕默德·阿里去世时多大了？\n",
      "中间答案：穆罕默德·阿里去世时74岁。\n",
      "追问：艾伦·图灵去世时多大了？\n",
      "中间答案：艾伦·图灵去世时41岁。\n",
      "所以最终答案是：穆罕默德·阿里\n",
      "\n"
     ]
    }
   ],
   "source": [
    "example_prompt = PromptTemplate(\n",
    "    input_variables=[\"question\", \"answer\"],\n",
    "    template=\"Question: {question}\\n{answer}\"\n",
    ")\n",
    "\n",
    "# **examples[0] 是将examples[0] 字典的键值对（question-answer）解包并传递给format，作为函数参数\n",
    "print(example_prompt.format(**examples[0]))"
   ]
  },
  {
   "cell_type": "code",
   "execution_count": 41,
   "id": "e4b8892e-c8a8-4c58-89be-5e331f040a62",
   "metadata": {},
   "outputs": [
    {
     "name": "stdout",
     "output_type": "stream",
     "text": [
      "input_variables=['answer', 'question'] template='Question: {question}\\n{answer}'\n"
     ]
    }
   ],
   "source": [
    "print(example_prompt)"
   ]
  },
  {
   "cell_type": "code",
   "execution_count": 42,
   "id": "e0c5861c-a383-4bd5-a3ee-27258c774fd0",
   "metadata": {},
   "outputs": [
    {
     "name": "stdout",
     "output_type": "stream",
     "text": [
      "Question: 《大白鲨》和《皇家赌场》的导演是同一个国家的吗？\n",
      "\n",
      "这里需要进一步的问题吗：是的。\n",
      "追问：谁是《大白鲨》的导演？\n",
      "中间答案：《大白鲨》的导演是Steven Spielberg。\n",
      "追问：Steven Spielberg来自哪里？\n",
      "中间答案：美国。\n",
      "追问：谁是《皇家赌场》的导演？\n",
      "中间答案：《皇家赌场》的导演是Martin Campbell。\n",
      "追问：Martin Campbell来自哪里？\n",
      "中间答案：新西兰。\n",
      "所以最终答案是：不是\n",
      "\n"
     ]
    }
   ],
   "source": [
    "print(example_prompt.format(**examples[-1]))"
   ]
  },
  {
   "cell_type": "markdown",
   "id": "22a053e2-c8e0-4cd8-9648-01a00057d1b5",
   "metadata": {},
   "source": [
    "#### 关于解包的示例"
   ]
  },
  {
   "cell_type": "code",
   "execution_count": 43,
   "id": "32806357-32c4-4e1c-ad6c-8b664bbf3004",
   "metadata": {},
   "outputs": [
    {
     "name": "stdout",
     "output_type": "stream",
     "text": [
      "Question: 谁活得更久，穆罕默德·阿里还是艾伦·图灵？\n",
      "Answer: \n",
      "这里需要进一步的问题吗：是的。\n",
      "追问：穆罕默德·阿里去世时多大了？\n",
      "中间答案：穆罕默德·阿里去世时74岁。\n",
      "追问：艾伦·图灵去世时多大了？\n",
      "中间答案：艾伦·图灵去世时41岁。\n",
      "所以最终答案是：穆罕默德·阿里\n",
      "\n"
     ]
    }
   ],
   "source": [
    "def print_info(question, answer):\n",
    "    print(f\"Question: {question}\")\n",
    "    print(f\"Answer: {answer}\")\n",
    "\n",
    "print_info(**examples[0]) "
   ]
  },
  {
   "cell_type": "markdown",
   "id": "759cc0de-1065-4997-ad78-b3ad4325585c",
   "metadata": {},
   "source": [
    "### 生成 Few-shot Prompt"
   ]
  },
  {
   "cell_type": "code",
   "execution_count": 44,
   "id": "ab9d0a1c-ca67-4b97-9095-011102c06046",
   "metadata": {},
   "outputs": [
    {
     "name": "stdout",
     "output_type": "stream",
     "text": [
      "Question: 谁活得更久，穆罕默德·阿里还是艾伦·图灵？\n",
      "\n",
      "这里需要进一步的问题吗：是的。\n",
      "追问：穆罕默德·阿里去世时多大了？\n",
      "中间答案：穆罕默德·阿里去世时74岁。\n",
      "追问：艾伦·图灵去世时多大了？\n",
      "中间答案：艾伦·图灵去世时41岁。\n",
      "所以最终答案是：穆罕默德·阿里\n",
      "\n",
      "\n",
      "Question: craigslist的创始人是什么时候出生的？\n",
      "\n",
      "这里需要进一步的问题吗：是的。\n",
      "追问：谁是craigslist的创始人？\n",
      "中间答案：Craigslist是由Craig Newmark创办的。\n",
      "追问：Craig Newmark是什么时候出生的？\n",
      "中间答案：Craig Newmark出生于1952年12月6日。\n",
      "所以最终答案是：1952年12月6日\n",
      "\n",
      "\n",
      "Question: 乔治·华盛顿的外祖父是谁？\n",
      "\n",
      "这里需要进一步的问题吗：是的。\n",
      "追问：谁是乔治·华盛顿的母亲？\n",
      "中间答案：乔治·华盛顿的母亲是Mary Ball Washington。\n",
      "追问：Mary Ball Washington的父亲是谁？\n",
      "中间答案：Mary Ball Washington的父亲是Joseph Ball。\n",
      "所以最终答案是：Joseph Ball\n",
      "\n",
      "\n",
      "Question: 《大白鲨》和《皇家赌场》的导演是同一个国家的吗？\n",
      "\n",
      "这里需要进一步的问题吗：是的。\n",
      "追问：谁是《大白鲨》的导演？\n",
      "中间答案：《大白鲨》的导演是Steven Spielberg。\n",
      "追问：Steven Spielberg来自哪里？\n",
      "中间答案：美国。\n",
      "追问：谁是《皇家赌场》的导演？\n",
      "中间答案：《皇家赌场》的导演是Martin Campbell。\n",
      "追问：Martin Campbell来自哪里？\n",
      "中间答案：新西兰。\n",
      "所以最终答案是：不是\n",
      "\n",
      "\n",
      "Question: 玛丽·波尔·华盛顿的父亲是谁?\n"
     ]
    }
   ],
   "source": [
    "# 导入 FewShotPromptTemplate 类\n",
    "from langchain.prompts.few_shot import FewShotPromptTemplate\n",
    "\n",
    "# 创建一个 FewShotPromptTemplate 对象\n",
    "few_shot_prompt = FewShotPromptTemplate(\n",
    "    examples=examples,           # 使用前面定义的 examples 作为范例\n",
    "    example_prompt=example_prompt, # 使用前面定义的 example_prompt 作为提示模板\n",
    "    suffix=\"Question: {input}\",    # 后缀模板，其中 {input} 会被替换为实际输入\n",
    "    input_variables=[\"input\"]     # 定义输入变量的列表\n",
    ")\n",
    "\n",
    "# 使用给定的输入格式化 prompt，并打印结果\n",
    "# 这里的 {input} 将被 \"玛丽·波尔·华盛顿的父亲是谁?\" 替换\n",
    "print(few_shot_prompt.format(input=\"玛丽·波尔·华盛顿的父亲是谁?\"))"
   ]
  },
  {
   "cell_type": "markdown",
   "id": "c559cecd-ad58-495e-92ff-765233888ad8",
   "metadata": {},
   "source": [
    "## 示例选择器 Example Selectors\n",
    "\n",
    "**如果你有大量的参考示例，就得选择哪些要包含在提示中。最好还是根据某种条件或者规则来自动选择，Example Selector 是负责这个任务的类。**\n",
    "\n",
    "BaseExampleSelector 定义如下：\n",
    "\n",
    "```python\n",
    "class BaseExampleSelector(ABC):\n",
    "    \"\"\"用于选择包含在提示中的示例的接口。\"\"\"\n",
    "\n",
    "    @abstractmethod\n",
    "    def select_examples(self, input_variables: Dict[str, str]) -> List[dict]:\n",
    "        \"\"\"根据输入选择要使用的示例。\"\"\"\n",
    "\n",
    "```\n",
    "\n",
    "`ABC` 是 Python 中的 `abc` 模块中的一个缩写，它表示 \"Abstract Base Class\"（抽象基类）。在 Python 中，抽象基类用于定义其他类必须遵循的基本接口或蓝图，但不能直接实例化。其主要目的是为了提供一种形式化的方式来定义和检查子类的接口。\n",
    "\n",
    "使用抽象基类的几点关键信息：\n",
    "\n",
    "1. **抽象方法**：在抽象基类中，你可以定义抽象方法，它没有实现（也就是说，它没有方法体）。任何继承该抽象基类的子类都必须提供这些抽象方法的实现。\n",
    "\n",
    "2. **不能直接实例化**：你不能直接创建抽象基类的实例。试图这样做会引发错误。它们的主要目的是为了被继承，并在子类中实现其方法。\n",
    "\n",
    "3. **强制子类实现**：如果子类没有实现所有的抽象方法，那么试图实例化该子类也会引发错误。这确保了继承抽象基类的所有子类都遵循了预定的接口。\n"
   ]
  },
  {
   "cell_type": "code",
   "execution_count": 45,
   "id": "b8886dad-54b9-4fdf-8481-8abdd506676d",
   "metadata": {},
   "outputs": [],
   "source": [
    "# 导入需要的模块和类\n",
    "from langchain.prompts.example_selector import SemanticSimilarityExampleSelector\n",
    "from langchain.vectorstores import Chroma\n",
    "from langchain.embeddings import OpenAIEmbeddings\n",
    "from langchain.prompts import FewShotPromptTemplate, PromptTemplate\n",
    "\n",
    "# 定义一个提示模板\n",
    "example_prompt = PromptTemplate(\n",
    "    input_variables=[\"input\", \"output\"],     # 输入变量的名字\n",
    "    template=\"Input: {input}\\nOutput: {output}\",  # 实际的模板字符串\n",
    ")\n",
    "\n",
    "# 这是一个假设的任务示例列表，用于创建反义词\n",
    "examples = [\n",
    "    {\"input\": \"happy\", \"output\": \"sad\"},\n",
    "    {\"input\": \"tall\", \"output\": \"short\"},\n",
    "    {\"input\": \"energetic\", \"output\": \"lethargic\"},\n",
    "    {\"input\": \"sunny\", \"output\": \"gloomy\"},\n",
    "    {\"input\": \"windy\", \"output\": \"calm\"},\n",
    "]"
   ]
  },
  {
   "cell_type": "code",
   "execution_count": 47,
   "id": "6bd18da6-56b1-415f-b46a-443789daa8e5",
   "metadata": {
    "collapsed": true,
    "jupyter": {
     "outputs_hidden": true
    }
   },
   "outputs": [
    {
     "name": "stdout",
     "output_type": "stream",
     "text": [
      "Looking in indexes: https://pypi.tuna.tsinghua.edu.cn/simple\n",
      "Collecting chromadb\n",
      "  Downloading https://pypi.tuna.tsinghua.edu.cn/packages/24/2a/5cad8436a39c45f9fb9a6a0662d6254039f90a5710cf82410b685bbb7c71/chromadb-0.4.17-py3-none-any.whl (496 kB)\n",
      "     ---------------------------------------- 0.0/496.8 kB ? eta -:--:--\n",
      "     -- ---------------------------------- 30.7/496.8 kB 660.6 kB/s eta 0:00:01\n",
      "     ---- -------------------------------- 61.4/496.8 kB 656.4 kB/s eta 0:00:01\n",
      "     ------ ------------------------------ 92.2/496.8 kB 655.4 kB/s eta 0:00:01\n",
      "     -------- --------------------------- 122.9/496.8 kB 654.9 kB/s eta 0:00:01\n",
      "     -------------- --------------------- 204.8/496.8 kB 892.5 kB/s eta 0:00:01\n",
      "     ----------------- ------------------ 235.5/496.8 kB 901.1 kB/s eta 0:00:01\n",
      "     ---------------------- ------------- 307.2/496.8 kB 999.9 kB/s eta 0:00:01\n",
      "     -------------------------------- ----- 419.8/496.8 kB 1.2 MB/s eta 0:00:01\n",
      "     -------------------------------------- 496.8/496.8 kB 1.3 MB/s eta 0:00:00\n",
      "Requirement already satisfied: requests>=2.28 in c:\\users\\huxiuyu\\.conda\\envs\\llm\\lib\\site-packages (from chromadb) (2.31.0)\n",
      "Requirement already satisfied: pydantic>=1.9 in c:\\users\\huxiuyu\\.conda\\envs\\llm\\lib\\site-packages (from chromadb) (2.5.1)\n",
      "Collecting chroma-hnswlib==0.7.3 (from chromadb)\n",
      "  Downloading https://pypi.tuna.tsinghua.edu.cn/packages/cc/3d/ca311b8f79744db3f4faad8fd9140af80d34c94829d3ed1726c98cf4a611/chroma_hnswlib-0.7.3-cp310-cp310-win_amd64.whl (150 kB)\n",
      "     ---------------------------------------- 0.0/150.6 kB ? eta -:--:--\n",
      "     -------------------------------------- 150.6/150.6 kB 4.5 MB/s eta 0:00:00\n",
      "Collecting fastapi>=0.95.2 (from chromadb)\n",
      "  Downloading https://pypi.tuna.tsinghua.edu.cn/packages/f3/4f/0ce34195b63240b6693086496c9bab4ef23999112184399a3e88854c7674/fastapi-0.104.1-py3-none-any.whl (92 kB)\n",
      "     ---------------------------------------- 0.0/92.9 kB ? eta -:--:--\n",
      "     ---------------------------------------  92.2/92.9 kB 2.6 MB/s eta 0:00:01\n",
      "     ---------------------------------------- 92.9/92.9 kB 1.8 MB/s eta 0:00:00\n",
      "Collecting uvicorn>=0.18.3 (from uvicorn[standard]>=0.18.3->chromadb)\n",
      "  Downloading https://pypi.tuna.tsinghua.edu.cn/packages/7e/17/4b7a76fffa7babf397481040d8aef2725b2b81ae19f1a31b5ca0c17d49e6/uvicorn-0.24.0.post1-py3-none-any.whl (59 kB)\n",
      "     ---------------------------------------- 0.0/59.7 kB ? eta -:--:--\n",
      "     -------------------- ------------------- 30.7/59.7 kB 1.4 MB/s eta 0:00:01\n",
      "     ---------------------------------------- 59.7/59.7 kB 1.1 MB/s eta 0:00:00\n",
      "Collecting posthog>=2.4.0 (from chromadb)\n",
      "  Downloading https://pypi.tuna.tsinghua.edu.cn/packages/a7/73/35758818228c70348be4c3c66a76653c62e894e0e3c3461453c5341ca926/posthog-3.0.2-py2.py3-none-any.whl (37 kB)\n",
      "Requirement already satisfied: typing-extensions>=4.5.0 in c:\\users\\huxiuyu\\.conda\\envs\\llm\\lib\\site-packages (from chromadb) (4.8.0)\n",
      "Collecting pulsar-client>=3.1.0 (from chromadb)\n",
      "  Downloading https://pypi.tuna.tsinghua.edu.cn/packages/5b/41/56f3028c94b1082ff7142ec33e5f2760c8ecc611186e82b27b80cf7f1d73/pulsar_client-3.3.0-cp310-cp310-win_amd64.whl (3.4 MB)\n",
      "     ---------------------------------------- 0.0/3.4 MB ? eta -:--:--\n",
      "     - -------------------------------------- 0.2/3.4 MB 3.1 MB/s eta 0:00:02\n",
      "     --- ------------------------------------ 0.3/3.4 MB 2.8 MB/s eta 0:00:02\n",
      "     ---- ----------------------------------- 0.4/3.4 MB 2.7 MB/s eta 0:00:02\n",
      "     ------ --------------------------------- 0.6/3.4 MB 2.9 MB/s eta 0:00:02\n",
      "     ------- -------------------------------- 0.7/3.4 MB 2.9 MB/s eta 0:00:01\n",
      "     --------- ------------------------------ 0.8/3.4 MB 2.8 MB/s eta 0:00:01\n",
      "     ---------- ----------------------------- 0.9/3.4 MB 2.8 MB/s eta 0:00:01\n",
      "     ------------ --------------------------- 1.1/3.4 MB 2.8 MB/s eta 0:00:01\n",
      "     ------------- -------------------------- 1.2/3.4 MB 2.9 MB/s eta 0:00:01\n",
      "     -------------- ------------------------- 1.2/3.4 MB 2.5 MB/s eta 0:00:01\n",
      "     --------------- ------------------------ 1.4/3.4 MB 2.6 MB/s eta 0:00:01\n",
      "     ----------------- ---------------------- 1.5/3.4 MB 2.6 MB/s eta 0:00:01\n",
      "     ------------------- -------------------- 1.7/3.4 MB 2.7 MB/s eta 0:00:01\n",
      "     --------------------- ------------------ 1.8/3.4 MB 2.7 MB/s eta 0:00:01\n",
      "     ---------------------- ----------------- 1.9/3.4 MB 2.7 MB/s eta 0:00:01\n",
      "     ------------------------ --------------- 2.1/3.4 MB 2.7 MB/s eta 0:00:01\n",
      "     ------------------------- -------------- 2.2/3.4 MB 2.6 MB/s eta 0:00:01\n",
      "     ------------------------- -------------- 2.2/3.4 MB 2.6 MB/s eta 0:00:01\n",
      "     --------------------------- ------------ 2.4/3.4 MB 2.6 MB/s eta 0:00:01\n",
      "     ---------------------------- ----------- 2.5/3.4 MB 2.6 MB/s eta 0:00:01\n",
      "     ---------------------------- ----------- 2.5/3.4 MB 2.5 MB/s eta 0:00:01\n",
      "     ----------------------------- ---------- 2.5/3.4 MB 2.4 MB/s eta 0:00:01\n",
      "     ------------------------------ --------- 2.6/3.4 MB 2.4 MB/s eta 0:00:01\n",
      "     ------------------------------- -------- 2.7/3.4 MB 2.3 MB/s eta 0:00:01\n",
      "     ------------------------------- -------- 2.7/3.4 MB 2.3 MB/s eta 0:00:01\n",
      "     -------------------------------- ------- 2.8/3.4 MB 2.3 MB/s eta 0:00:01\n",
      "     ---------------------------------- ----- 2.9/3.4 MB 2.3 MB/s eta 0:00:01\n",
      "     ----------------------------------- ---- 3.0/3.4 MB 2.3 MB/s eta 0:00:01\n",
      "     ------------------------------------ --- 3.2/3.4 MB 2.3 MB/s eta 0:00:01\n",
      "     ------------------------------------- -- 3.3/3.4 MB 2.3 MB/s eta 0:00:01\n",
      "     -------------------------------------- - 3.3/3.4 MB 2.3 MB/s eta 0:00:01\n",
      "     ---------------------------------------  3.4/3.4 MB 2.2 MB/s eta 0:00:01\n",
      "     ---------------------------------------  3.4/3.4 MB 2.2 MB/s eta 0:00:01\n",
      "     ---------------------------------------- 3.4/3.4 MB 2.2 MB/s eta 0:00:00\n",
      "Collecting onnxruntime>=1.14.1 (from chromadb)\n",
      "  Downloading https://pypi.tuna.tsinghua.edu.cn/packages/f6/e3/5bf51625e4892bb11621f787b7361207961549a64feeb214f99c2dbc482d/onnxruntime-1.16.2-cp310-cp310-win_amd64.whl (7.4 MB)\n",
      "     ---------------------------------------- 0.0/7.4 MB ? eta -:--:--\n",
      "      --------------------------------------- 0.2/7.4 MB 4.5 MB/s eta 0:00:02\n",
      "     - -------------------------------------- 0.3/7.4 MB 3.9 MB/s eta 0:00:02\n",
      "     - -------------------------------------- 0.3/7.4 MB 2.4 MB/s eta 0:00:03\n",
      "     -- ------------------------------------- 0.5/7.4 MB 2.7 MB/s eta 0:00:03\n",
      "     --- ------------------------------------ 0.6/7.4 MB 2.5 MB/s eta 0:00:03\n",
      "     --- ------------------------------------ 0.7/7.4 MB 2.7 MB/s eta 0:00:03\n",
      "     ---- ----------------------------------- 0.8/7.4 MB 2.7 MB/s eta 0:00:03\n",
      "     ---- ----------------------------------- 0.8/7.4 MB 2.7 MB/s eta 0:00:03\n",
      "     ---- ----------------------------------- 0.8/7.4 MB 2.7 MB/s eta 0:00:03\n",
      "     ---- ----------------------------------- 0.8/7.4 MB 2.7 MB/s eta 0:00:03\n",
      "     ---- ----------------------------------- 0.8/7.4 MB 2.7 MB/s eta 0:00:03\n",
      "     ---- ----------------------------------- 0.8/7.4 MB 2.7 MB/s eta 0:00:03\n",
      "     ---- ----------------------------------- 0.8/7.4 MB 2.7 MB/s eta 0:00:03\n",
      "     ---------- ----------------------------- 1.8/7.4 MB 2.9 MB/s eta 0:00:02\n",
      "     ---------- ----------------------------- 1.8/7.4 MB 2.9 MB/s eta 0:00:02\n",
      "     ---------- ----------------------------- 1.9/7.4 MB 2.6 MB/s eta 0:00:03\n",
      "     ---------- ----------------------------- 2.0/7.4 MB 2.6 MB/s eta 0:00:03\n",
      "     ---------- ----------------------------- 2.0/7.4 MB 2.4 MB/s eta 0:00:03\n",
      "     ----------- ---------------------------- 2.1/7.4 MB 2.4 MB/s eta 0:00:03\n",
      "     ----------- ---------------------------- 2.2/7.4 MB 2.3 MB/s eta 0:00:03\n",
      "     ----------- ---------------------------- 2.2/7.4 MB 2.3 MB/s eta 0:00:03\n",
      "     ------------ --------------------------- 2.3/7.4 MB 2.3 MB/s eta 0:00:03\n",
      "     ------------ --------------------------- 2.3/7.4 MB 2.2 MB/s eta 0:00:03\n",
      "     ------------- -------------------------- 2.4/7.4 MB 2.2 MB/s eta 0:00:03\n",
      "     ------------- -------------------------- 2.5/7.4 MB 2.2 MB/s eta 0:00:03\n",
      "     -------------- ------------------------- 2.6/7.4 MB 2.2 MB/s eta 0:00:03\n",
      "     -------------- ------------------------- 2.6/7.4 MB 2.1 MB/s eta 0:00:03\n",
      "     -------------- ------------------------- 2.7/7.4 MB 2.1 MB/s eta 0:00:03\n",
      "     --------------- ------------------------ 2.9/7.4 MB 2.2 MB/s eta 0:00:03\n",
      "     ---------------- ----------------------- 3.0/7.4 MB 2.2 MB/s eta 0:00:02\n",
      "     ----------------- ---------------------- 3.2/7.4 MB 2.2 MB/s eta 0:00:02\n",
      "     ----------------- ---------------------- 3.3/7.4 MB 2.2 MB/s eta 0:00:02\n",
      "     ------------------ --------------------- 3.5/7.4 MB 2.3 MB/s eta 0:00:02\n",
      "     ------------------- -------------------- 3.6/7.4 MB 2.3 MB/s eta 0:00:02\n",
      "     -------------------- ------------------- 3.8/7.4 MB 2.4 MB/s eta 0:00:02\n",
      "     --------------------- ------------------ 3.9/7.4 MB 2.4 MB/s eta 0:00:02\n",
      "     --------------------- ------------------ 3.9/7.4 MB 2.4 MB/s eta 0:00:02\n",
      "     --------------------- ------------------ 3.9/7.4 MB 2.4 MB/s eta 0:00:02\n",
      "     --------------------- ------------------ 3.9/7.4 MB 2.4 MB/s eta 0:00:02\n",
      "     --------------------- ------------------ 3.9/7.4 MB 2.4 MB/s eta 0:00:02\n",
      "     --------------------- ------------------ 3.9/7.4 MB 2.4 MB/s eta 0:00:02\n",
      "     --------------------- ------------------ 3.9/7.4 MB 2.4 MB/s eta 0:00:02\n",
      "     --------------------- ------------------ 3.9/7.4 MB 2.4 MB/s eta 0:00:02\n",
      "     --------------------- ------------------ 3.9/7.4 MB 2.4 MB/s eta 0:00:02\n",
      "     --------------------- ------------------ 3.9/7.4 MB 2.4 MB/s eta 0:00:02\n",
      "     --------------------------- ------------ 5.0/7.4 MB 2.4 MB/s eta 0:00:01\n",
      "     --------------------------- ------------ 5.0/7.4 MB 2.4 MB/s eta 0:00:01\n",
      "     --------------------------- ------------ 5.0/7.4 MB 2.3 MB/s eta 0:00:02\n",
      "     --------------------------- ------------ 5.1/7.4 MB 2.3 MB/s eta 0:00:02\n",
      "     --------------------------- ------------ 5.1/7.4 MB 2.2 MB/s eta 0:00:02\n",
      "     --------------------------- ------------ 5.1/7.4 MB 2.2 MB/s eta 0:00:02\n",
      "     ---------------------------- ----------- 5.2/7.4 MB 2.2 MB/s eta 0:00:02\n",
      "     ---------------------------- ----------- 5.2/7.4 MB 2.1 MB/s eta 0:00:01\n",
      "     ---------------------------- ----------- 5.3/7.4 MB 2.1 MB/s eta 0:00:01\n",
      "     ----------------------------- ---------- 5.4/7.4 MB 2.1 MB/s eta 0:00:01\n",
      "     ----------------------------- ---------- 5.4/7.4 MB 2.1 MB/s eta 0:00:01\n",
      "     ----------------------------- ---------- 5.4/7.4 MB 2.1 MB/s eta 0:00:01\n",
      "     ------------------------------ --------- 5.5/7.4 MB 2.1 MB/s eta 0:00:01\n",
      "     ------------------------------ --------- 5.6/7.4 MB 2.0 MB/s eta 0:00:01\n",
      "     ------------------------------ --------- 5.6/7.4 MB 2.0 MB/s eta 0:00:01\n",
      "     ------------------------------ --------- 5.7/7.4 MB 2.0 MB/s eta 0:00:01\n",
      "     ------------------------------- -------- 5.7/7.4 MB 2.0 MB/s eta 0:00:01\n",
      "     ------------------------------- -------- 5.8/7.4 MB 2.0 MB/s eta 0:00:01\n",
      "     ------------------------------- -------- 5.8/7.4 MB 2.0 MB/s eta 0:00:01\n",
      "     ------------------------------- -------- 5.9/7.4 MB 1.9 MB/s eta 0:00:01\n",
      "     -------------------------------- ------- 5.9/7.4 MB 1.9 MB/s eta 0:00:01\n",
      "     -------------------------------- ------- 5.9/7.4 MB 1.9 MB/s eta 0:00:01\n",
      "     -------------------------------- ------- 5.9/7.4 MB 1.9 MB/s eta 0:00:01\n",
      "     -------------------------------- ------- 5.9/7.4 MB 1.9 MB/s eta 0:00:01\n",
      "     -------------------------------- ------- 5.9/7.4 MB 1.9 MB/s eta 0:00:01\n",
      "     -------------------------------- ------- 5.9/7.4 MB 1.9 MB/s eta 0:00:01\n",
      "     -------------------------------- ------- 5.9/7.4 MB 1.9 MB/s eta 0:00:01\n",
      "     -------------------------------- ------- 5.9/7.4 MB 1.9 MB/s eta 0:00:01\n",
      "     -------------------------------- ------- 5.9/7.4 MB 1.9 MB/s eta 0:00:01\n",
      "     -------------------------------- ------- 5.9/7.4 MB 1.9 MB/s eta 0:00:01\n",
      "     -------------------------------- ------- 5.9/7.4 MB 1.9 MB/s eta 0:00:01\n",
      "     -------------------------------- ------- 5.9/7.4 MB 1.9 MB/s eta 0:00:01\n",
      "     -------------------------------- ------- 5.9/7.4 MB 1.9 MB/s eta 0:00:01\n",
      "     -------------------------------- ------- 5.9/7.4 MB 1.9 MB/s eta 0:00:01\n",
      "     ------------------------------------- -- 6.9/7.4 MB 1.9 MB/s eta 0:00:01\n",
      "     ------------------------------------- -- 7.0/7.4 MB 1.9 MB/s eta 0:00:01\n",
      "     -------------------------------------- - 7.0/7.4 MB 1.9 MB/s eta 0:00:01\n",
      "     ---------------------------------------  7.2/7.4 MB 1.9 MB/s eta 0:00:01\n",
      "     ---------------------------------------  7.4/7.4 MB 1.9 MB/s eta 0:00:01\n",
      "     ---------------------------------------  7.4/7.4 MB 1.9 MB/s eta 0:00:01\n",
      "     ---------------------------------------- 7.4/7.4 MB 1.9 MB/s eta 0:00:00\n",
      "Collecting opentelemetry-api>=1.2.0 (from chromadb)\n",
      "  Downloading https://pypi.tuna.tsinghua.edu.cn/packages/51/3a/945e6c21f405ac4ea526f91ee09cc1568c04e0c95d3392903e6984c8f0e0/opentelemetry_api-1.21.0-py3-none-any.whl (57 kB)\n",
      "     ---------------------------------------- 0.0/57.9 kB ? eta -:--:--\n",
      "     ---------------------------------------- 57.9/57.9 kB 3.0 MB/s eta 0:00:00\n",
      "Collecting opentelemetry-exporter-otlp-proto-grpc>=1.2.0 (from chromadb)\n",
      "  Downloading https://pypi.tuna.tsinghua.edu.cn/packages/75/59/ec3e39fe164c61306998cdd3cd30a857c4da2f8d3141204a929e57668eee/opentelemetry_exporter_otlp_proto_grpc-1.21.0-py3-none-any.whl (18 kB)\n",
      "Collecting opentelemetry-sdk>=1.2.0 (from chromadb)\n",
      "  Downloading https://pypi.tuna.tsinghua.edu.cn/packages/c3/08/ca8b1ef7a2fa3f1ea2f12770eca8976098066adb442b1da81fea3b370123/opentelemetry_sdk-1.21.0-py3-none-any.whl (105 kB)\n",
      "     ---------------------------------------- 0.0/105.3 kB ? eta -:--:--\n",
      "     ------------------------------------ - 102.4/105.3 kB 3.0 MB/s eta 0:00:01\n",
      "     -------------------------------------- 105.3/105.3 kB 2.0 MB/s eta 0:00:00\n",
      "Collecting tokenizers>=0.13.2 (from chromadb)\n",
      "  Downloading https://pypi.tuna.tsinghua.edu.cn/packages/42/db/0061fb8004ce9173b9249a0c323c799be51f2c8e6d4ff3cc38b549c3f8b6/tokenizers-0.15.0-cp310-none-win_amd64.whl (2.2 MB)\n",
      "     ---------------------------------------- 0.0/2.2 MB ? eta -:--:--\n",
      "      --------------------------------------- 0.0/2.2 MB 2.0 MB/s eta 0:00:02\n",
      "     -- ------------------------------------- 0.1/2.2 MB 1.4 MB/s eta 0:00:02\n",
      "     ----- ---------------------------------- 0.3/2.2 MB 2.1 MB/s eta 0:00:01\n",
      "     -------- ------------------------------- 0.4/2.2 MB 2.5 MB/s eta 0:00:01\n",
      "     --------- ------------------------------ 0.5/2.2 MB 2.4 MB/s eta 0:00:01\n",
      "     ---------- ----------------------------- 0.6/2.2 MB 2.1 MB/s eta 0:00:01\n",
      "     ----------- ---------------------------- 0.6/2.2 MB 1.9 MB/s eta 0:00:01\n",
      "     ------------ --------------------------- 0.7/2.2 MB 1.9 MB/s eta 0:00:01\n",
      "     ------------ --------------------------- 0.7/2.2 MB 1.8 MB/s eta 0:00:01\n",
      "     -------------- ------------------------- 0.8/2.2 MB 1.8 MB/s eta 0:00:01\n",
      "     ---------------- ----------------------- 0.9/2.2 MB 1.7 MB/s eta 0:00:01\n",
      "     ---------------- ----------------------- 0.9/2.2 MB 1.7 MB/s eta 0:00:01\n",
      "     ----------------- ---------------------- 1.0/2.2 MB 1.6 MB/s eta 0:00:01\n",
      "     ------------------- -------------------- 1.1/2.2 MB 1.7 MB/s eta 0:00:01\n",
      "     ------------------- -------------------- 1.1/2.2 MB 1.6 MB/s eta 0:00:01\n",
      "     --------------------- ------------------ 1.2/2.2 MB 1.5 MB/s eta 0:00:01\n",
      "     ---------------------- ----------------- 1.2/2.2 MB 1.5 MB/s eta 0:00:01\n",
      "     ----------------------- ---------------- 1.3/2.2 MB 1.6 MB/s eta 0:00:01\n",
      "     ------------------------ --------------- 1.4/2.2 MB 1.5 MB/s eta 0:00:01\n",
      "     -------------------------- ------------- 1.4/2.2 MB 1.5 MB/s eta 0:00:01\n",
      "     --------------------------- ------------ 1.5/2.2 MB 1.5 MB/s eta 0:00:01\n",
      "     ---------------------------- ----------- 1.6/2.2 MB 1.5 MB/s eta 0:00:01\n",
      "     ----------------------------- ---------- 1.6/2.2 MB 1.5 MB/s eta 0:00:01\n",
      "     ------------------------------- -------- 1.7/2.2 MB 1.6 MB/s eta 0:00:01\n",
      "     ---------------------------------- ----- 1.9/2.2 MB 1.6 MB/s eta 0:00:01\n",
      "     ------------------------------------ --- 2.0/2.2 MB 1.7 MB/s eta 0:00:01\n",
      "     ---------------------------------------  2.2/2.2 MB 1.7 MB/s eta 0:00:01\n",
      "     ---------------------------------------- 2.2/2.2 MB 1.7 MB/s eta 0:00:00\n",
      "Collecting pypika>=0.48.9 (from chromadb)\n",
      "  Downloading https://pypi.tuna.tsinghua.edu.cn/packages/c7/2c/94ed7b91db81d61d7096ac8f2d325ec562fc75e35f3baea8749c85b28784/PyPika-0.48.9.tar.gz (67 kB)\n",
      "     ---------------------------------------- 0.0/67.3 kB ? eta -:--:--\n",
      "     ---------------------------------------- 67.3/67.3 kB 1.8 MB/s eta 0:00:00\n",
      "  Installing build dependencies: started\n",
      "  Installing build dependencies: finished with status 'done'\n",
      "  Getting requirements to build wheel: started\n",
      "  Getting requirements to build wheel: finished with status 'done'\n",
      "  Preparing metadata (pyproject.toml): started\n",
      "  Preparing metadata (pyproject.toml): finished with status 'done'\n",
      "Requirement already satisfied: tqdm>=4.65.0 in c:\\users\\huxiuyu\\.conda\\envs\\llm\\lib\\site-packages (from chromadb) (4.66.1)\n",
      "Requirement already satisfied: overrides>=7.3.1 in c:\\users\\huxiuyu\\.conda\\envs\\llm\\lib\\site-packages (from chromadb) (7.4.0)\n",
      "Collecting importlib-resources (from chromadb)\n",
      "  Downloading https://pypi.tuna.tsinghua.edu.cn/packages/93/e8/facde510585869b5ec694e8e0363ffe4eba067cb357a8398a55f6a1f8023/importlib_resources-6.1.1-py3-none-any.whl (33 kB)\n",
      "Collecting grpcio>=1.58.0 (from chromadb)\n",
      "  Downloading https://pypi.tuna.tsinghua.edu.cn/packages/b5/76/66e3c45c074418b2140a8b520c1fd72d008856bdca54dd84563b0d08d378/grpcio-1.59.3-cp310-cp310-win_amd64.whl (3.7 MB)\n",
      "     ---------------------------------------- 0.0/3.7 MB ? eta -:--:--\n",
      "     ---------------------------------------- 0.0/3.7 MB 991.0 kB/s eta 0:00:04\n",
      "     - -------------------------------------- 0.1/3.7 MB 1.7 MB/s eta 0:00:03\n",
      "     --- ------------------------------------ 0.3/3.7 MB 2.2 MB/s eta 0:00:02\n",
      "     ---- ----------------------------------- 0.4/3.7 MB 2.5 MB/s eta 0:00:02\n",
      "     ----- ---------------------------------- 0.5/3.7 MB 2.4 MB/s eta 0:00:02\n",
      "     ------ --------------------------------- 0.6/3.7 MB 2.4 MB/s eta 0:00:02\n",
      "     ------- -------------------------------- 0.7/3.7 MB 2.3 MB/s eta 0:00:02\n",
      "     ------- -------------------------------- 0.7/3.7 MB 2.0 MB/s eta 0:00:02\n",
      "     --------- ------------------------------ 0.8/3.7 MB 2.0 MB/s eta 0:00:02\n",
      "     --------- ------------------------------ 0.9/3.7 MB 2.0 MB/s eta 0:00:02\n",
      "     ----------- ---------------------------- 1.1/3.7 MB 2.1 MB/s eta 0:00:02\n",
      "     ------------ --------------------------- 1.1/3.7 MB 2.1 MB/s eta 0:00:02\n",
      "     ------------- -------------------------- 1.2/3.7 MB 2.1 MB/s eta 0:00:02\n",
      "     --------------- ------------------------ 1.4/3.7 MB 2.2 MB/s eta 0:00:02\n",
      "     ----------------- ---------------------- 1.6/3.7 MB 2.3 MB/s eta 0:00:01\n",
      "     ------------------- -------------------- 1.8/3.7 MB 2.4 MB/s eta 0:00:01\n",
      "     ------------------- -------------------- 1.8/3.7 MB 2.3 MB/s eta 0:00:01\n",
      "     -------------------- ------------------- 1.9/3.7 MB 2.3 MB/s eta 0:00:01\n",
      "     --------------------- ------------------ 2.0/3.7 MB 2.2 MB/s eta 0:00:01\n",
      "     ---------------------- ----------------- 2.1/3.7 MB 2.2 MB/s eta 0:00:01\n",
      "     ----------------------- ---------------- 2.2/3.7 MB 2.3 MB/s eta 0:00:01\n",
      "     ------------------------ --------------- 2.3/3.7 MB 2.2 MB/s eta 0:00:01\n",
      "     ------------------------- -------------- 2.3/3.7 MB 2.3 MB/s eta 0:00:01\n",
      "     ------------------------- -------------- 2.4/3.7 MB 2.1 MB/s eta 0:00:01\n",
      "     --------------------------- ------------ 2.5/3.7 MB 2.2 MB/s eta 0:00:01\n",
      "     ---------------------------- ----------- 2.7/3.7 MB 2.2 MB/s eta 0:00:01\n",
      "     ------------------------------ --------- 2.8/3.7 MB 2.2 MB/s eta 0:00:01\n",
      "     -------------------------------- ------- 3.0/3.7 MB 2.3 MB/s eta 0:00:01\n",
      "     --------------------------------- ------ 3.1/3.7 MB 2.3 MB/s eta 0:00:01\n",
      "     ----------------------------------- ---- 3.2/3.7 MB 2.3 MB/s eta 0:00:01\n",
      "     ------------------------------------ --- 3.3/3.7 MB 2.3 MB/s eta 0:00:01\n",
      "     ------------------------------------- -- 3.4/3.7 MB 2.3 MB/s eta 0:00:01\n",
      "     -------------------------------------- - 3.5/3.7 MB 2.3 MB/s eta 0:00:01\n",
      "     ---------------------------------------  3.6/3.7 MB 2.3 MB/s eta 0:00:01\n",
      "     ---------------------------------------  3.7/3.7 MB 2.2 MB/s eta 0:00:01\n",
      "     ---------------------------------------- 3.7/3.7 MB 2.2 MB/s eta 0:00:00\n",
      "Collecting bcrypt>=4.0.1 (from chromadb)\n",
      "  Downloading https://pypi.tuna.tsinghua.edu.cn/packages/46/81/d8c22cd7e5e1c6a7d48e41a1d1d46c92f17dae70a54d9814f746e6027dec/bcrypt-4.0.1-cp36-abi3-win_amd64.whl (152 kB)\n",
      "     ---------------------------------------- 0.0/152.9 kB ? eta -:--:--\n",
      "     --------------------------- ---------- 112.6/152.9 kB 2.2 MB/s eta 0:00:01\n",
      "     -------------------------------------- 152.9/152.9 kB 1.8 MB/s eta 0:00:00\n",
      "Collecting typer>=0.9.0 (from chromadb)\n",
      "  Downloading https://pypi.tuna.tsinghua.edu.cn/packages/bf/0e/c68adf10adda05f28a6ed7b9f4cd7b8e07f641b44af88ba72d9c89e4de7a/typer-0.9.0-py3-none-any.whl (45 kB)\n",
      "     ---------------------------------------- 0.0/45.9 kB ? eta -:--:--\n",
      "     ---------------------------------------- 45.9/45.9 kB 2.4 MB/s eta 0:00:00\n",
      "Collecting kubernetes>=28.1.0 (from chromadb)\n",
      "  Downloading https://pypi.tuna.tsinghua.edu.cn/packages/f5/6a/1f69c2d8b1ff03f8d8e10d801f4ac3016ed4c1b00aa9795732c6ec900bba/kubernetes-28.1.0-py2.py3-none-any.whl (1.6 MB)\n",
      "     ---------------------------------------- 0.0/1.6 MB ? eta -:--:--\n",
      "     -- ------------------------------------- 0.1/1.6 MB 3.3 MB/s eta 0:00:01\n",
      "     ----- ---------------------------------- 0.2/1.6 MB 2.5 MB/s eta 0:00:01\n",
      "     ------ --------------------------------- 0.3/1.6 MB 2.0 MB/s eta 0:00:01\n",
      "     -------- ------------------------------- 0.3/1.6 MB 1.9 MB/s eta 0:00:01\n",
      "     --------- ------------------------------ 0.4/1.6 MB 1.7 MB/s eta 0:00:01\n",
      "     ----------- ---------------------------- 0.4/1.6 MB 1.6 MB/s eta 0:00:01\n",
      "     ------------ --------------------------- 0.5/1.6 MB 1.5 MB/s eta 0:00:01\n",
      "     -------------- ------------------------- 0.6/1.6 MB 1.5 MB/s eta 0:00:01\n",
      "     --------------- ------------------------ 0.6/1.6 MB 1.5 MB/s eta 0:00:01\n",
      "     ---------------- ----------------------- 0.6/1.6 MB 1.4 MB/s eta 0:00:01\n",
      "     ------------------ --------------------- 0.7/1.6 MB 1.4 MB/s eta 0:00:01\n",
      "     --------------------- ------------------ 0.9/1.6 MB 1.6 MB/s eta 0:00:01\n",
      "     -------------------------- ------------- 1.0/1.6 MB 1.7 MB/s eta 0:00:01\n",
      "     ----------------------------- ---------- 1.1/1.6 MB 1.8 MB/s eta 0:00:01\n",
      "     ------------------------------ --------- 1.2/1.6 MB 1.7 MB/s eta 0:00:01\n",
      "     ------------------------------ --------- 1.2/1.6 MB 1.7 MB/s eta 0:00:01\n",
      "     ------------------------------- -------- 1.2/1.6 MB 1.5 MB/s eta 0:00:01\n",
      "     -------------------------------- ------- 1.3/1.6 MB 1.5 MB/s eta 0:00:01\n",
      "     ---------------------------------- ----- 1.3/1.6 MB 1.5 MB/s eta 0:00:01\n",
      "     ----------------------------------- ---- 1.4/1.6 MB 1.5 MB/s eta 0:00:01\n",
      "     ---------------------------------------  1.6/1.6 MB 1.6 MB/s eta 0:00:01\n",
      "     ---------------------------------------- 1.6/1.6 MB 1.6 MB/s eta 0:00:00\n",
      "Requirement already satisfied: tenacity>=8.2.3 in c:\\users\\huxiuyu\\.conda\\envs\\llm\\lib\\site-packages (from chromadb) (8.2.3)\n",
      "Requirement already satisfied: PyYAML>=6.0.0 in c:\\users\\huxiuyu\\.conda\\envs\\llm\\lib\\site-packages (from chromadb) (6.0.1)\n",
      "Requirement already satisfied: numpy>=1.22.5 in c:\\users\\huxiuyu\\.conda\\envs\\llm\\lib\\site-packages (from chromadb) (1.26.1)\n",
      "Requirement already satisfied: anyio<4.0.0,>=3.7.1 in c:\\users\\huxiuyu\\.conda\\envs\\llm\\lib\\site-packages (from fastapi>=0.95.2->chromadb) (3.7.1)\n",
      "Collecting starlette<0.28.0,>=0.27.0 (from fastapi>=0.95.2->chromadb)\n",
      "  Downloading https://pypi.tuna.tsinghua.edu.cn/packages/58/f8/e2cca22387965584a409795913b774235752be4176d276714e15e1a58884/starlette-0.27.0-py3-none-any.whl (66 kB)\n",
      "     ---------------------------------------- 0.0/67.0 kB ? eta -:--:--\n",
      "     ------------------------ --------------- 41.0/67.0 kB ? eta -:--:--\n",
      "     ------------------------ --------------- 41.0/67.0 kB ? eta -:--:--\n",
      "     ------------------------ --------------- 41.0/67.0 kB ? eta -:--:--\n",
      "     ------------------------ --------------- 41.0/67.0 kB ? eta -:--:--\n",
      "     ------------------------ --------------- 41.0/67.0 kB ? eta -:--:--\n",
      "     ------------------------ --------------- 41.0/67.0 kB ? eta -:--:--\n",
      "     ------------------------ --------------- 41.0/67.0 kB ? eta -:--:--\n",
      "     -------------------------------------- 67.0/67.0 kB 157.6 kB/s eta 0:00:00\n",
      "Requirement already satisfied: certifi>=14.05.14 in c:\\users\\huxiuyu\\.conda\\envs\\llm\\lib\\site-packages (from kubernetes>=28.1.0->chromadb) (2023.7.22)\n",
      "Requirement already satisfied: six>=1.9.0 in c:\\users\\huxiuyu\\.conda\\envs\\llm\\lib\\site-packages (from kubernetes>=28.1.0->chromadb) (1.16.0)\n",
      "Requirement already satisfied: python-dateutil>=2.5.3 in c:\\users\\huxiuyu\\.conda\\envs\\llm\\lib\\site-packages (from kubernetes>=28.1.0->chromadb) (2.8.2)\n",
      "Collecting google-auth>=1.0.1 (from kubernetes>=28.1.0->chromadb)\n",
      "  Downloading https://pypi.tuna.tsinghua.edu.cn/packages/86/a7/75911c13a242735d5aeaca6a272da380335ff4ba5f26d6b2ae20ff682d13/google_auth-2.23.4-py2.py3-none-any.whl (183 kB)\n",
      "     ---------------------------------------- 0.0/183.3 kB ? eta -:--:--\n",
      "     -------- ---------------------------- 41.0/183.3 kB 667.8 kB/s eta 0:00:01\n",
      "     ------------------------------- ------ 153.6/183.3 kB 1.5 MB/s eta 0:00:01\n",
      "     -------------------------------------- 183.3/183.3 kB 1.4 MB/s eta 0:00:00\n",
      "Requirement already satisfied: websocket-client!=0.40.0,!=0.41.*,!=0.42.*,>=0.32.0 in c:\\users\\huxiuyu\\.conda\\envs\\llm\\lib\\site-packages (from kubernetes>=28.1.0->chromadb) (1.6.4)\n",
      "Collecting requests-oauthlib (from kubernetes>=28.1.0->chromadb)\n",
      "  Downloading https://pypi.tuna.tsinghua.edu.cn/packages/6f/bb/5deac77a9af870143c684ab46a7934038a53eb4aa975bc0687ed6ca2c610/requests_oauthlib-1.3.1-py2.py3-none-any.whl (23 kB)\n",
      "Collecting oauthlib>=3.2.2 (from kubernetes>=28.1.0->chromadb)\n",
      "  Downloading https://pypi.tuna.tsinghua.edu.cn/packages/7e/80/cab10959dc1faead58dc8384a781dfbf93cb4d33d50988f7a69f1b7c9bbe/oauthlib-3.2.2-py3-none-any.whl (151 kB)\n",
      "     ---------------------------------------- 0.0/151.7 kB ? eta -:--:--\n",
      "     ------------------ -------------------- 71.7/151.7 kB 1.9 MB/s eta 0:00:01\n",
      "     ------------------------------ ------- 122.9/151.7 kB 1.8 MB/s eta 0:00:01\n",
      "     ------------------------------ ------- 122.9/151.7 kB 1.8 MB/s eta 0:00:01\n",
      "     ------------------------------ ------- 122.9/151.7 kB 1.8 MB/s eta 0:00:01\n",
      "     ------------------------------ ------- 122.9/151.7 kB 1.8 MB/s eta 0:00:01\n",
      "     ------------------------------ ------- 122.9/151.7 kB 1.8 MB/s eta 0:00:01\n",
      "     ---------------------------------- - 143.4/151.7 kB 425.3 kB/s eta 0:00:01\n",
      "     ------------------------------------ 151.7/151.7 kB 392.9 kB/s eta 0:00:00\n",
      "Collecting urllib3<2.0,>=1.24.2 (from kubernetes>=28.1.0->chromadb)\n",
      "  Downloading https://pypi.tuna.tsinghua.edu.cn/packages/b0/53/aa91e163dcfd1e5b82d8a890ecf13314e3e149c05270cc644581f77f17fd/urllib3-1.26.18-py2.py3-none-any.whl (143 kB)\n",
      "     ---------------------------------------- 0.0/143.8 kB ? eta -:--:--\n",
      "     ---------------- ---------------------- 61.4/143.8 kB 1.7 MB/s eta 0:00:01\n",
      "     -------------------------------- ----- 122.9/143.8 kB 1.4 MB/s eta 0:00:01\n",
      "     -------------------------------------- 143.8/143.8 kB 1.4 MB/s eta 0:00:00\n",
      "Collecting coloredlogs (from onnxruntime>=1.14.1->chromadb)\n",
      "  Downloading https://pypi.tuna.tsinghua.edu.cn/packages/a7/06/3d6badcf13db419e25b07041d9c7b4a2c331d3f4e7134445ec5df57714cd/coloredlogs-15.0.1-py2.py3-none-any.whl (46 kB)\n",
      "     ---------------------------------------- 0.0/46.0 kB ? eta -:--:--\n",
      "     ---------------------------------------- 46.0/46.0 kB 1.1 MB/s eta 0:00:00\n",
      "Collecting flatbuffers (from onnxruntime>=1.14.1->chromadb)\n",
      "  Downloading https://pypi.tuna.tsinghua.edu.cn/packages/6f/12/d5c79ee252793ffe845d58a913197bfa02ae9a0b5c9bc3dc4b58d477b9e7/flatbuffers-23.5.26-py2.py3-none-any.whl (26 kB)\n",
      "Requirement already satisfied: packaging in c:\\users\\huxiuyu\\.conda\\envs\\llm\\lib\\site-packages (from onnxruntime>=1.14.1->chromadb) (23.2)\n",
      "Collecting protobuf (from onnxruntime>=1.14.1->chromadb)\n",
      "  Downloading https://pypi.tuna.tsinghua.edu.cn/packages/fe/6b/7f177e8d6fe4caa14f4065433af9f879d4fab84f0d17dcba7b407f6bd808/protobuf-4.25.1-cp310-abi3-win_amd64.whl (413 kB)\n",
      "     ---------------------------------------- 0.0/413.4 kB ? eta -:--:--\n",
      "     ----- --------------------------------- 61.4/413.4 kB 1.7 MB/s eta 0:00:01\n",
      "     ----------- -------------------------- 122.9/413.4 kB 1.2 MB/s eta 0:00:01\n",
      "     ---------------- --------------------- 174.1/413.4 kB 1.5 MB/s eta 0:00:01\n",
      "     -------------------- ----------------- 225.3/413.4 kB 1.4 MB/s eta 0:00:01\n",
      "     -------------------------- ----------- 286.7/413.4 kB 1.3 MB/s eta 0:00:01\n",
      "     -------------------------------- ----- 358.4/413.4 kB 1.3 MB/s eta 0:00:01\n",
      "     -------------------------------------- 413.4/413.4 kB 1.3 MB/s eta 0:00:00\n",
      "Collecting sympy (from onnxruntime>=1.14.1->chromadb)\n",
      "  Downloading https://pypi.tuna.tsinghua.edu.cn/packages/d2/05/e6600db80270777c4a64238a98d442f0fd07cc8915be2a1c16da7f2b9e74/sympy-1.12-py3-none-any.whl (5.7 MB)\n",
      "     ---------------------------------------- 0.0/5.7 MB ? eta -:--:--\n",
      "     ---------------------------------------- 0.1/5.7 MB 1.6 MB/s eta 0:00:04\n",
      "      --------------------------------------- 0.1/5.7 MB 1.2 MB/s eta 0:00:05\n",
      "     - -------------------------------------- 0.2/5.7 MB 1.3 MB/s eta 0:00:05\n",
      "     - -------------------------------------- 0.3/5.7 MB 1.4 MB/s eta 0:00:04\n",
      "     -- ------------------------------------- 0.3/5.7 MB 1.4 MB/s eta 0:00:04\n",
      "     -- ------------------------------------- 0.4/5.7 MB 1.3 MB/s eta 0:00:04\n",
      "     --- ------------------------------------ 0.4/5.7 MB 1.3 MB/s eta 0:00:05\n",
      "     --- ------------------------------------ 0.5/5.7 MB 1.4 MB/s eta 0:00:04\n",
      "     ---- ----------------------------------- 0.6/5.7 MB 1.4 MB/s eta 0:00:04\n",
      "     ---- ----------------------------------- 0.6/5.7 MB 1.4 MB/s eta 0:00:04\n",
      "     ---- ----------------------------------- 0.7/5.7 MB 1.4 MB/s eta 0:00:04\n",
      "     ----- ---------------------------------- 0.8/5.7 MB 1.4 MB/s eta 0:00:04\n",
      "     ----- ---------------------------------- 0.8/5.7 MB 1.5 MB/s eta 0:00:04\n",
      "     ------ --------------------------------- 0.9/5.7 MB 1.5 MB/s eta 0:00:04\n",
      "     ------ --------------------------------- 1.0/5.7 MB 1.5 MB/s eta 0:00:04\n",
      "     ------- -------------------------------- 1.0/5.7 MB 1.5 MB/s eta 0:00:04\n",
      "     ------- -------------------------------- 1.1/5.7 MB 1.5 MB/s eta 0:00:04\n",
      "     -------- ------------------------------- 1.2/5.7 MB 1.5 MB/s eta 0:00:04\n",
      "     -------- ------------------------------- 1.3/5.7 MB 1.5 MB/s eta 0:00:03\n",
      "     --------- ------------------------------ 1.4/5.7 MB 1.5 MB/s eta 0:00:03\n",
      "     --------- ------------------------------ 1.4/5.7 MB 1.5 MB/s eta 0:00:03\n",
      "     ---------- ----------------------------- 1.5/5.7 MB 1.5 MB/s eta 0:00:03\n",
      "     ---------- ----------------------------- 1.6/5.7 MB 1.5 MB/s eta 0:00:03\n",
      "     ----------- ---------------------------- 1.6/5.7 MB 1.6 MB/s eta 0:00:03\n",
      "     ------------ --------------------------- 1.7/5.7 MB 1.6 MB/s eta 0:00:03\n",
      "     ------------ --------------------------- 1.8/5.7 MB 1.6 MB/s eta 0:00:03\n",
      "     ------------- -------------------------- 1.9/5.7 MB 1.6 MB/s eta 0:00:03\n",
      "     ------------- -------------------------- 2.0/5.7 MB 1.6 MB/s eta 0:00:03\n",
      "     -------------- ------------------------- 2.1/5.7 MB 1.6 MB/s eta 0:00:03\n",
      "     --------------- ------------------------ 2.2/5.7 MB 1.6 MB/s eta 0:00:03\n",
      "     --------------- ------------------------ 2.3/5.7 MB 1.6 MB/s eta 0:00:03\n",
      "     ---------------- ----------------------- 2.3/5.7 MB 1.6 MB/s eta 0:00:03\n",
      "     ---------------- ----------------------- 2.4/5.7 MB 1.6 MB/s eta 0:00:03\n",
      "     ----------------- ---------------------- 2.5/5.7 MB 1.7 MB/s eta 0:00:02\n",
      "     ------------------ --------------------- 2.6/5.7 MB 1.7 MB/s eta 0:00:02\n",
      "     ------------------ --------------------- 2.7/5.7 MB 1.7 MB/s eta 0:00:02\n",
      "     ------------------- -------------------- 2.8/5.7 MB 1.7 MB/s eta 0:00:02\n",
      "     -------------------- ------------------- 2.9/5.7 MB 1.7 MB/s eta 0:00:02\n",
      "     -------------------- ------------------- 3.0/5.7 MB 1.7 MB/s eta 0:00:02\n",
      "     --------------------- ------------------ 3.1/5.7 MB 1.7 MB/s eta 0:00:02\n",
      "     ---------------------- ----------------- 3.2/5.7 MB 1.7 MB/s eta 0:00:02\n",
      "     ---------------------- ----------------- 3.3/5.7 MB 1.8 MB/s eta 0:00:02\n",
      "     ----------------------- ---------------- 3.3/5.7 MB 1.7 MB/s eta 0:00:02\n",
      "     ----------------------- ---------------- 3.3/5.7 MB 1.7 MB/s eta 0:00:02\n",
      "     ----------------------- ---------------- 3.3/5.7 MB 1.7 MB/s eta 0:00:02\n",
      "     ----------------------- ---------------- 3.3/5.7 MB 1.7 MB/s eta 0:00:02\n",
      "     ----------------------- ---------------- 3.3/5.7 MB 1.7 MB/s eta 0:00:02\n",
      "     -------------------------- ------------- 3.8/5.7 MB 1.8 MB/s eta 0:00:02\n",
      "     --------------------------- ------------ 3.9/5.7 MB 1.8 MB/s eta 0:00:02\n",
      "     --------------------------- ------------ 4.0/5.7 MB 1.8 MB/s eta 0:00:01\n",
      "     --------------------------- ------------ 4.0/5.7 MB 1.8 MB/s eta 0:00:01\n",
      "     ---------------------------- ----------- 4.1/5.7 MB 1.8 MB/s eta 0:00:01\n",
      "     ----------------------------- ---------- 4.2/5.7 MB 1.8 MB/s eta 0:00:01\n",
      "     ------------------------------ --------- 4.4/5.7 MB 1.8 MB/s eta 0:00:01\n",
      "     ------------------------------- -------- 4.5/5.7 MB 1.8 MB/s eta 0:00:01\n",
      "     -------------------------------- ------- 4.7/5.7 MB 1.9 MB/s eta 0:00:01\n",
      "     --------------------------------- ------ 4.8/5.7 MB 1.9 MB/s eta 0:00:01\n",
      "     ---------------------------------- ----- 4.9/5.7 MB 1.9 MB/s eta 0:00:01\n",
      "     ----------------------------------- ---- 5.0/5.7 MB 1.9 MB/s eta 0:00:01\n",
      "     ----------------------------------- ---- 5.1/5.7 MB 1.9 MB/s eta 0:00:01\n",
      "     ------------------------------------ --- 5.2/5.7 MB 1.9 MB/s eta 0:00:01\n",
      "     ------------------------------------- -- 5.3/5.7 MB 1.9 MB/s eta 0:00:01\n",
      "     ------------------------------------- -- 5.4/5.7 MB 1.9 MB/s eta 0:00:01\n",
      "     -------------------------------------- - 5.6/5.7 MB 2.0 MB/s eta 0:00:01\n",
      "     ---------------------------------------  5.7/5.7 MB 2.0 MB/s eta 0:00:01\n",
      "     ---------------------------------------- 5.7/5.7 MB 2.0 MB/s eta 0:00:00\n",
      "Collecting deprecated>=1.2.6 (from opentelemetry-api>=1.2.0->chromadb)\n",
      "  Downloading https://pypi.tuna.tsinghua.edu.cn/packages/20/8d/778b7d51b981a96554f29136cd59ca7880bf58094338085bcf2a979a0e6a/Deprecated-1.2.14-py2.py3-none-any.whl (9.6 kB)\n",
      "Collecting importlib-metadata<7.0,>=6.0 (from opentelemetry-api>=1.2.0->chromadb)\n",
      "  Downloading https://pypi.tuna.tsinghua.edu.cn/packages/cc/37/db7ba97e676af155f5fcb1a35466f446eadc9104e25b83366e8088c9c926/importlib_metadata-6.8.0-py3-none-any.whl (22 kB)\n",
      "Collecting backoff<3.0.0,>=1.10.0 (from opentelemetry-exporter-otlp-proto-grpc>=1.2.0->chromadb)\n",
      "  Downloading https://pypi.tuna.tsinghua.edu.cn/packages/df/73/b6e24bd22e6720ca8ee9a85a0c4a2971af8497d8f3193fa05390cbd46e09/backoff-2.2.1-py3-none-any.whl (15 kB)\n",
      "Collecting googleapis-common-protos~=1.52 (from opentelemetry-exporter-otlp-proto-grpc>=1.2.0->chromadb)\n",
      "  Downloading https://pypi.tuna.tsinghua.edu.cn/packages/21/49/12996dc0238e017504dceea1d121a48bd49fb3f4416f40d59fc3e924b4f3/googleapis_common_protos-1.61.0-py2.py3-none-any.whl (230 kB)\n",
      "     ---------------------------------------- 0.0/230.9 kB ? eta -:--:--\n",
      "     ------------ -------------------------- 71.7/230.9 kB 1.9 MB/s eta 0:00:01\n",
      "     ---------------------------- --------- 174.1/230.9 kB 2.1 MB/s eta 0:00:01\n",
      "     -------------------------------------- 230.9/230.9 kB 2.0 MB/s eta 0:00:00\n",
      "Collecting opentelemetry-exporter-otlp-proto-common==1.21.0 (from opentelemetry-exporter-otlp-proto-grpc>=1.2.0->chromadb)\n",
      "  Downloading https://pypi.tuna.tsinghua.edu.cn/packages/2a/60/ec618caf8fd8a4ac50500565eb49038ec42b7b168df9a316494085a740a6/opentelemetry_exporter_otlp_proto_common-1.21.0-py3-none-any.whl (17 kB)\n",
      "Collecting opentelemetry-proto==1.21.0 (from opentelemetry-exporter-otlp-proto-grpc>=1.2.0->chromadb)\n",
      "  Downloading https://pypi.tuna.tsinghua.edu.cn/packages/69/c2/d11b5fbf95adf68440ff4c953e2d8d027c9c62ece79b78372af95af590c9/opentelemetry_proto-1.21.0-py3-none-any.whl (50 kB)\n",
      "     ---------------------------------------- 0.0/50.8 kB ? eta -:--:--\n",
      "     ---------------------------------------- 50.8/50.8 kB 1.3 MB/s eta 0:00:00\n",
      "Collecting opentelemetry-semantic-conventions==0.42b0 (from opentelemetry-sdk>=1.2.0->chromadb)\n",
      "  Downloading https://pypi.tuna.tsinghua.edu.cn/packages/c3/0c/4c99cbe85b65fbba5a638cb7d913cb3acead3d83b4c47763be28d418bb95/opentelemetry_semantic_conventions-0.42b0-py3-none-any.whl (36 kB)\n",
      "Collecting monotonic>=1.5 (from posthog>=2.4.0->chromadb)\n",
      "  Downloading https://pypi.tuna.tsinghua.edu.cn/packages/9a/67/7e8406a29b6c45be7af7740456f7f37025f0506ae2e05fb9009a53946860/monotonic-1.6-py2.py3-none-any.whl (8.2 kB)\n",
      "Requirement already satisfied: annotated-types>=0.4.0 in c:\\users\\huxiuyu\\.conda\\envs\\llm\\lib\\site-packages (from pydantic>=1.9->chromadb) (0.6.0)\n",
      "Requirement already satisfied: pydantic-core==2.14.3 in c:\\users\\huxiuyu\\.conda\\envs\\llm\\lib\\site-packages (from pydantic>=1.9->chromadb) (2.14.3)\n",
      "Requirement already satisfied: charset-normalizer<4,>=2 in c:\\users\\huxiuyu\\.conda\\envs\\llm\\lib\\site-packages (from requests>=2.28->chromadb) (3.3.2)\n",
      "Requirement already satisfied: idna<4,>=2.5 in c:\\users\\huxiuyu\\.conda\\envs\\llm\\lib\\site-packages (from requests>=2.28->chromadb) (3.4)\n",
      "Collecting huggingface_hub<1.0,>=0.16.4 (from tokenizers>=0.13.2->chromadb)\n",
      "  Downloading https://pypi.tuna.tsinghua.edu.cn/packages/05/09/1945ca6ba3ad8ad6e2872ba682ce8d68c5e63c8e55458ed8ab4885709f1d/huggingface_hub-0.19.4-py3-none-any.whl (311 kB)\n",
      "     ---------------------------------------- 0.0/311.7 kB ? eta -:--:--\n",
      "     ----- --------------------------------- 41.0/311.7 kB 1.9 MB/s eta 0:00:01\n",
      "     ------------------ ------------------- 153.6/311.7 kB 1.8 MB/s eta 0:00:01\n",
      "     -------------------------------------  307.2/311.7 kB 2.4 MB/s eta 0:00:01\n",
      "     -------------------------------------- 311.7/311.7 kB 2.1 MB/s eta 0:00:00\n",
      "Requirement already satisfied: colorama in c:\\users\\huxiuyu\\.conda\\envs\\llm\\lib\\site-packages (from tqdm>=4.65.0->chromadb) (0.4.6)\n",
      "Collecting click<9.0.0,>=7.1.1 (from typer>=0.9.0->chromadb)\n",
      "  Downloading https://pypi.tuna.tsinghua.edu.cn/packages/00/2e/d53fa4befbf2cfa713304affc7ca780ce4fc1fd8710527771b58311a3229/click-8.1.7-py3-none-any.whl (97 kB)\n",
      "     ---------------------------------------- 0.0/97.9 kB ? eta -:--:--\n",
      "     ---------------------------------------- 97.9/97.9 kB 2.8 MB/s eta 0:00:00\n",
      "Collecting h11>=0.8 (from uvicorn>=0.18.3->uvicorn[standard]>=0.18.3->chromadb)\n",
      "  Downloading https://pypi.tuna.tsinghua.edu.cn/packages/95/04/ff642e65ad6b90db43e668d70ffb6736436c7ce41fcc549f4e9472234127/h11-0.14.0-py3-none-any.whl (58 kB)\n",
      "     ---------------------------------------- 0.0/58.3 kB ? eta -:--:--\n",
      "     ---------------------------------------- 58.3/58.3 kB 1.5 MB/s eta 0:00:00\n",
      "Collecting httptools>=0.5.0 (from uvicorn[standard]>=0.18.3->chromadb)\n",
      "  Downloading https://pypi.tuna.tsinghua.edu.cn/packages/1e/fc/8a26c2adcd3f141e4729897633f03832b71ebea6f4c31cce67a92ded1961/httptools-0.6.1-cp310-cp310-win_amd64.whl (58 kB)\n",
      "     ---------------------------------------- 0.0/58.2 kB ? eta -:--:--\n",
      "     ---------------------------------------- 58.2/58.2 kB 3.0 MB/s eta 0:00:00\n",
      "Collecting python-dotenv>=0.13 (from uvicorn[standard]>=0.18.3->chromadb)\n",
      "  Downloading https://pypi.tuna.tsinghua.edu.cn/packages/44/2f/62ea1c8b593f4e093cc1a7768f0d46112107e790c3e478532329e434f00b/python_dotenv-1.0.0-py3-none-any.whl (19 kB)\n",
      "Collecting watchfiles>=0.13 (from uvicorn[standard]>=0.18.3->chromadb)\n",
      "  Downloading https://pypi.tuna.tsinghua.edu.cn/packages/4b/ea/80527adf1ad51488a96fc201715730af5879f4dfeccb5e2069ff82d890d4/watchfiles-0.21.0-cp310-none-win_amd64.whl (279 kB)\n",
      "     ---------------------------------------- 0.0/279.7 kB ? eta -:--:--\n",
      "     ------------ -------------------------- 92.2/279.7 kB 2.6 MB/s eta 0:00:01\n",
      "     -------------------------- ----------- 194.6/279.7 kB 2.3 MB/s eta 0:00:01\n",
      "     ---------------------------------- --- 256.0/279.7 kB 2.2 MB/s eta 0:00:01\n",
      "     -------------------------------------- 279.7/279.7 kB 1.9 MB/s eta 0:00:00\n",
      "Collecting websockets>=10.4 (from uvicorn[standard]>=0.18.3->chromadb)\n",
      "  Downloading https://pypi.tuna.tsinghua.edu.cn/packages/41/b0/5ec054cfcf23adfc88d39359b85e81d043af8a141e3ac8ce40f45a5ce5f4/websockets-12.0-cp310-cp310-win_amd64.whl (124 kB)\n",
      "     ---------------------------------------- 0.0/125.0 kB ? eta -:--:--\n",
      "     ---------------------- ---------------- 71.7/125.0 kB 2.0 MB/s eta 0:00:01\n",
      "     -------------------------------------- 125.0/125.0 kB 1.8 MB/s eta 0:00:00\n",
      "Requirement already satisfied: sniffio>=1.1 in c:\\users\\huxiuyu\\.conda\\envs\\llm\\lib\\site-packages (from anyio<4.0.0,>=3.7.1->fastapi>=0.95.2->chromadb) (1.3.0)\n",
      "Requirement already satisfied: exceptiongroup in c:\\users\\huxiuyu\\.conda\\envs\\llm\\lib\\site-packages (from anyio<4.0.0,>=3.7.1->fastapi>=0.95.2->chromadb) (1.1.3)\n",
      "Collecting wrapt<2,>=1.10 (from deprecated>=1.2.6->opentelemetry-api>=1.2.0->chromadb)\n",
      "  Downloading https://pypi.tuna.tsinghua.edu.cn/packages/19/2b/548d23362e3002ebbfaefe649b833fa43f6ca37ac3e95472130c4b69e0b4/wrapt-1.16.0-cp310-cp310-win_amd64.whl (37 kB)\n",
      "Collecting cachetools<6.0,>=2.0.0 (from google-auth>=1.0.1->kubernetes>=28.1.0->chromadb)\n",
      "  Downloading https://pypi.tuna.tsinghua.edu.cn/packages/a2/91/2d843adb9fbd911e0da45fbf6f18ca89d07a087c3daa23e955584f90ebf4/cachetools-5.3.2-py3-none-any.whl (9.3 kB)\n",
      "Collecting pyasn1-modules>=0.2.1 (from google-auth>=1.0.1->kubernetes>=28.1.0->chromadb)\n",
      "  Downloading https://pypi.tuna.tsinghua.edu.cn/packages/cd/8e/bea464350e1b8c6ed0da3a312659cb648804a08af6cacc6435867f74f8bd/pyasn1_modules-0.3.0-py2.py3-none-any.whl (181 kB)\n",
      "     ---------------------------------------- 0.0/181.3 kB ? eta -:--:--\n",
      "     --------------- ----------------------- 71.7/181.3 kB 2.0 MB/s eta 0:00:01\n",
      "     ------------------------------------ - 174.1/181.3 kB 2.1 MB/s eta 0:00:01\n",
      "     ------------------------------------ - 174.1/181.3 kB 2.1 MB/s eta 0:00:01\n",
      "     -------------------------------------- 181.3/181.3 kB 1.1 MB/s eta 0:00:00\n",
      "Collecting rsa<5,>=3.1.4 (from google-auth>=1.0.1->kubernetes>=28.1.0->chromadb)\n",
      "  Downloading https://pypi.tuna.tsinghua.edu.cn/packages/49/97/fa78e3d2f65c02c8e1268b9aba606569fe97f6c8f7c2d74394553347c145/rsa-4.9-py3-none-any.whl (34 kB)\n",
      "Collecting filelock (from huggingface_hub<1.0,>=0.16.4->tokenizers>=0.13.2->chromadb)\n",
      "  Downloading https://pypi.tuna.tsinghua.edu.cn/packages/81/54/84d42a0bee35edba99dee7b59a8d4970eccdd44b99fe728ed912106fc781/filelock-3.13.1-py3-none-any.whl (11 kB)\n",
      "Collecting fsspec>=2023.5.0 (from huggingface_hub<1.0,>=0.16.4->tokenizers>=0.13.2->chromadb)\n",
      "  Downloading https://pypi.tuna.tsinghua.edu.cn/packages/e8/f6/3eccfb530aac90ad1301c582da228e4763f19e719ac8200752a4841b0b2d/fsspec-2023.10.0-py3-none-any.whl (166 kB)\n",
      "     ---------------------------------------- 0.0/166.4 kB ? eta -:--:--\n",
      "     -------------- ------------------------ 61.4/166.4 kB 1.7 MB/s eta 0:00:01\n",
      "     -------------------------------- ----- 143.4/166.4 kB 1.7 MB/s eta 0:00:01\n",
      "     -------------------------------------- 166.4/166.4 kB 1.4 MB/s eta 0:00:00\n",
      "Collecting zipp>=0.5 (from importlib-metadata<7.0,>=6.0->opentelemetry-api>=1.2.0->chromadb)\n",
      "  Downloading https://pypi.tuna.tsinghua.edu.cn/packages/d9/66/48866fc6b158c81cc2bfecc04c480f105c6040e8b077bc54c634b4a67926/zipp-3.17.0-py3-none-any.whl (7.4 kB)\n",
      "Collecting humanfriendly>=9.1 (from coloredlogs->onnxruntime>=1.14.1->chromadb)\n",
      "  Downloading https://pypi.tuna.tsinghua.edu.cn/packages/f0/0f/310fb31e39e2d734ccaa2c0fb981ee41f7bd5056ce9bc29b2248bd569169/humanfriendly-10.0-py2.py3-none-any.whl (86 kB)\n",
      "     ---------------------------------------- 0.0/86.8 kB ? eta -:--:--\n",
      "     ---------------------------------------- 86.8/86.8 kB 1.6 MB/s eta 0:00:00\n",
      "Collecting mpmath>=0.19 (from sympy->onnxruntime>=1.14.1->chromadb)\n",
      "  Downloading https://pypi.tuna.tsinghua.edu.cn/packages/43/e3/7d92a15f894aa0c9c4b49b8ee9ac9850d6e63b03c9c32c0367a13ae62209/mpmath-1.3.0-py3-none-any.whl (536 kB)\n",
      "     ---------------------------------------- 0.0/536.2 kB ? eta -:--:--\n",
      "     ------- ------------------------------ 112.6/536.2 kB 2.2 MB/s eta 0:00:01\n",
      "     -------------- ----------------------- 204.8/536.2 kB 2.1 MB/s eta 0:00:01\n",
      "     -------------------- ----------------- 286.7/536.2 kB 2.0 MB/s eta 0:00:01\n",
      "     --------------------------- ---------- 389.1/536.2 kB 1.9 MB/s eta 0:00:01\n",
      "     ---------------------------------- --- 481.3/536.2 kB 1.9 MB/s eta 0:00:01\n",
      "     -------------------------------------  522.2/536.2 kB 1.9 MB/s eta 0:00:01\n",
      "     -------------------------------------  522.2/536.2 kB 1.9 MB/s eta 0:00:01\n",
      "     -------------------------------------- 536.2/536.2 kB 1.4 MB/s eta 0:00:00\n",
      "Collecting pyreadline3 (from humanfriendly>=9.1->coloredlogs->onnxruntime>=1.14.1->chromadb)\n",
      "  Downloading https://pypi.tuna.tsinghua.edu.cn/packages/56/fc/a3c13ded7b3057680c8ae95a9b6cc83e63657c38e0005c400a5d018a33a7/pyreadline3-3.4.1-py3-none-any.whl (95 kB)\n",
      "     ---------------------------------------- 0.0/95.2 kB ? eta -:--:--\n",
      "     ------------ ------------------------- 30.7/95.2 kB 660.6 kB/s eta 0:00:01\n",
      "     ---------------------------- --------- 71.7/95.2 kB 660.6 kB/s eta 0:00:01\n",
      "     -------------------------------------- 95.2/95.2 kB 679.7 kB/s eta 0:00:00\n",
      "Collecting pyasn1<0.6.0,>=0.4.6 (from pyasn1-modules>=0.2.1->google-auth>=1.0.1->kubernetes>=28.1.0->chromadb)\n",
      "  Downloading https://pypi.tuna.tsinghua.edu.cn/packages/14/e5/b56a725cbde139aa960c26a1a3ca4d4af437282e20b5314ee6a3501e7dfc/pyasn1-0.5.0-py2.py3-none-any.whl (83 kB)\n",
      "     ---------------------------------------- 0.0/83.9 kB ? eta -:--:--\n",
      "     ---------------------------------------- 83.9/83.9 kB 2.4 MB/s eta 0:00:00\n",
      "Building wheels for collected packages: pypika\n",
      "  Building wheel for pypika (pyproject.toml): started\n",
      "  Building wheel for pypika (pyproject.toml): finished with status 'done'\n",
      "  Created wheel for pypika: filename=PyPika-0.48.9-py2.py3-none-any.whl size=53834 sha256=4845798aa70362f44ec2fdb407ee7f67c8630067f0c18188716cd35a3d0fb45a\n",
      "  Stored in directory: c:\\users\\huxiuyu\\appdata\\local\\pip\\cache\\wheels\\06\\08\\01\\e1ce9a2b2e9e51d8540e77461c4cc395c902b9020c296aae50\n",
      "Successfully built pypika\n",
      "Installing collected packages: pyreadline3, pypika, mpmath, monotonic, flatbuffers, zipp, wrapt, websockets, urllib3, sympy, python-dotenv, pyasn1, pulsar-client, protobuf, opentelemetry-semantic-conventions, oauthlib, importlib-resources, humanfriendly, httptools, h11, grpcio, fsspec, filelock, click, chroma-hnswlib, cachetools, bcrypt, backoff, watchfiles, uvicorn, typer, starlette, rsa, pyasn1-modules, opentelemetry-proto, importlib-metadata, googleapis-common-protos, deprecated, coloredlogs, requests-oauthlib, posthog, opentelemetry-exporter-otlp-proto-common, opentelemetry-api, onnxruntime, huggingface_hub, google-auth, fastapi, tokenizers, opentelemetry-sdk, kubernetes, opentelemetry-exporter-otlp-proto-grpc, chromadb\n",
      "  Attempting uninstall: urllib3\n",
      "    Found existing installation: urllib3 2.0.7\n",
      "    Uninstalling urllib3-2.0.7:\n",
      "      Successfully uninstalled urllib3-2.0.7\n",
      "Successfully installed backoff-2.2.1 bcrypt-4.0.1 cachetools-5.3.2 chroma-hnswlib-0.7.3 chromadb-0.4.17 click-8.1.7 coloredlogs-15.0.1 deprecated-1.2.14 fastapi-0.104.1 filelock-3.13.1 flatbuffers-23.5.26 fsspec-2023.10.0 google-auth-2.23.4 googleapis-common-protos-1.61.0 grpcio-1.59.3 h11-0.14.0 httptools-0.6.1 huggingface_hub-0.19.4 humanfriendly-10.0 importlib-metadata-6.8.0 importlib-resources-6.1.1 kubernetes-28.1.0 monotonic-1.6 mpmath-1.3.0 oauthlib-3.2.2 onnxruntime-1.16.2 opentelemetry-api-1.21.0 opentelemetry-exporter-otlp-proto-common-1.21.0 opentelemetry-exporter-otlp-proto-grpc-1.21.0 opentelemetry-proto-1.21.0 opentelemetry-sdk-1.21.0 opentelemetry-semantic-conventions-0.42b0 posthog-3.0.2 protobuf-4.25.1 pulsar-client-3.3.0 pyasn1-0.5.0 pyasn1-modules-0.3.0 pypika-0.48.9 pyreadline3-3.4.1 python-dotenv-1.0.0 requests-oauthlib-1.3.1 rsa-4.9 starlette-0.27.0 sympy-1.12 tokenizers-0.15.0 typer-0.9.0 urllib3-1.26.18 uvicorn-0.24.0.post1 watchfiles-0.21.0 websockets-12.0 wrapt-1.16.0 zipp-3.17.0\n"
     ]
    }
   ],
   "source": [
    "!pip install chromadb -i https://pypi.tuna.tsinghua.edu.cn/simple"
   ]
  },
  {
   "cell_type": "code",
   "execution_count": 52,
   "id": "e15785f7-fa11-4b2b-a668-9838b14839ff",
   "metadata": {},
   "outputs": [],
   "source": [
    "# 从给定的示例中创建一个语义相似性选择器\n",
    "example_selector = SemanticSimilarityExampleSelector.from_examples(\n",
    "    examples,                          # 可供选择的示例列表\n",
    "    OpenAIEmbeddings(),                # 用于生成嵌入向量的嵌入类，用于衡量语义相似性\n",
    "    Chroma,                            # 用于存储嵌入向量并进行相似性搜索的 VectorStore 类\n",
    "    k=2                                # 要生成的示例数量\n",
    ")\n",
    "\n",
    "# 创建一个 FewShotPromptTemplate 对象\n",
    "similar_prompt = FewShotPromptTemplate(\n",
    "    example_selector=example_selector,  # 提供一个 ExampleSelector 替代示例\n",
    "    example_prompt=example_prompt,      # 前面定义的提示模板\n",
    "    prefix=\"Give the antonym of every input\", # 前缀模板\n",
    "    suffix=\"Input: {adjective}\\nOutput:\",     # 后缀模板\n",
    "    input_variables=[\"adjective\"],           # 输入变量的名字\n",
    ")\n"
   ]
  },
  {
   "cell_type": "code",
   "execution_count": 53,
   "id": "7c24dd07-c3fc-4c85-9481-a6d163723b72",
   "metadata": {},
   "outputs": [
    {
     "name": "stdout",
     "output_type": "stream",
     "text": [
      "Give the antonym of every input\n",
      "\n",
      "Input: happy\n",
      "Output: sad\n",
      "\n",
      "Input: happy\n",
      "Output: sad\n",
      "\n",
      "Input: worried\n",
      "Output:\n"
     ]
    }
   ],
   "source": [
    "# 输入是一种感受，所以应该选择 happy/sad 的示例。\n",
    "print(similar_prompt.format(adjective=\"worried\"))"
   ]
  },
  {
   "cell_type": "code",
   "execution_count": 54,
   "id": "0c4a113f-0719-4534-8932-1a363991da84",
   "metadata": {},
   "outputs": [
    {
     "name": "stdout",
     "output_type": "stream",
     "text": [
      "Give the antonym of every input\n",
      "\n",
      "Input: tall\n",
      "Output: short\n",
      "\n",
      "Input: tall\n",
      "Output: short\n",
      "\n",
      "Input: long\n",
      "Output:\n"
     ]
    }
   ],
   "source": [
    "# 输入是一种度量，所以应该选择 tall/short的示例。\n",
    "print(similar_prompt.format(adjective=\"long\"))"
   ]
  },
  {
   "cell_type": "code",
   "execution_count": 55,
   "id": "760abbb9-c00c-43fb-8c73-341c3993f720",
   "metadata": {},
   "outputs": [
    {
     "name": "stdout",
     "output_type": "stream",
     "text": [
      "Give the antonym of every input\n",
      "\n",
      "Input: windy\n",
      "Output: calm\n",
      "\n",
      "Input: windy\n",
      "Output: calm\n",
      "\n",
      "Input: rain\n",
      "Output:\n"
     ]
    }
   ],
   "source": [
    "print(similar_prompt.format(adjective=\"rain\"))"
   ]
  }
 ],
 "metadata": {
  "kernelspec": {
   "display_name": "Python 3 (ipykernel)",
   "language": "python",
   "name": "python3"
  },
  "language_info": {
   "codemirror_mode": {
    "name": "ipython",
    "version": 3
   },
   "file_extension": ".py",
   "mimetype": "text/x-python",
   "name": "python",
   "nbconvert_exporter": "python",
   "pygments_lexer": "ipython3",
   "version": "3.10.0"
  }
 },
 "nbformat": 4,
 "nbformat_minor": 5
}
