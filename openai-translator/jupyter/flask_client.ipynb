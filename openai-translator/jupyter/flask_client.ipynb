{
 "cells": [
  {
   "cell_type": "code",
   "execution_count": 4,
   "id": "a4e32dd8-6716-463e-8120-91682dd65830",
   "metadata": {
    "ExecuteTime": {
     "end_time": "2023-11-25T09:44:07.142515100Z",
     "start_time": "2023-11-25T09:44:04.594416900Z"
    }
   },
   "outputs": [
    {
     "name": "stdout",
     "output_type": "stream",
     "text": [
      "Looking in indexes: https://pypi.tuna.tsinghua.edu.cn/simple\n",
      "Requirement already satisfied: requests in c:\\users\\hujingsong\\.conda\\envs\\llm\\lib\\site-packages (2.31.0)\n",
      "Requirement already satisfied: charset-normalizer<4,>=2 in c:\\users\\hujingsong\\.conda\\envs\\llm\\lib\\site-packages (from requests) (3.3.2)\n",
      "Requirement already satisfied: idna<4,>=2.5 in c:\\users\\hujingsong\\.conda\\envs\\llm\\lib\\site-packages (from requests) (3.6)\n",
      "Requirement already satisfied: urllib3<3,>=1.21.1 in c:\\users\\hujingsong\\.conda\\envs\\llm\\lib\\site-packages (from requests) (1.26.18)\n",
      "Requirement already satisfied: certifi>=2017.4.17 in c:\\users\\hujingsong\\.conda\\envs\\llm\\lib\\site-packages (from requests) (2023.11.17)\n",
      "Could not fetch URL https://pypi.tuna.tsinghua.edu.cn/simple/pip/: There was a problem confirming the ssl certificate: HTTPSConnectionPool(host='pypi.tuna.tsinghua.edu.cn', port=443): Max retries exceeded with url: /simple/pip/ (Caused by SSLError(SSLZeroReturnError(6, 'TLS/SSL connection has been closed (EOF) (_ssl.c:997)'))) - skipping\n"
     ]
    }
   ],
   "source": [
    "!pip install requests -i https://pypi.tuna.tsinghua.edu.cn/simple"
   ]
  },
  {
   "cell_type": "code",
   "execution_count": 1,
   "id": "959730e7ad83981c",
   "metadata": {
    "ExecuteTime": {
     "end_time": "2023-11-25T09:56:07.417792400Z",
     "start_time": "2023-11-25T09:55:59.232260Z"
    },
    "collapsed": false,
    "jupyter": {
     "outputs_hidden": false
    }
   },
   "outputs": [
    {
     "name": "stdout",
     "output_type": "stream",
     "text": [
      "{'code': 200, 'msg': '操作成功', 'data': {'request_id': '8142537984943026157', 'task_id': '8142537984943026157', 'task_status': 'SUCCESS', 'choices': [{'role': 'assistant', 'content': '\" 我可以回答各种问题，提供信息、建议和帮助。包括但不限于：\\\\n\\\\n1. 解答常识性问题，如地理、历史、科学等领域的知识。\\\\n2. 提供实用信息，如天气预报、汇率转换、计算器等功能。\\\\n3. 协助解决问题，如技术支持、生活咨询等。\\\\n4. 进行语言翻译，支持多种语言之间的互译。\\\\n5. 娱乐休闲，如讲笑话、猜谜语、推荐电影等。\\\\n\\\\n我的能力还在不断进步中，更多功能将会陆续上线。如果您有任何问题或建议，请随时告诉我。\"'}], 'usage': {'prompt_tokens': 18, 'completion_tokens': 126, 'total_tokens': 144}}, 'success': True}\n"
     ]
    }
   ],
   "source": [
    "import zhipuai\n",
    "\n",
    "# your api key\n",
    "zhipuai.api_key = \"cd998d2a1f14e1b59b6331cc957aeb68.gRWeAXTW8vKhWgCC\"\n",
    "\n",
    "\n",
    "def invoke_example():\n",
    "    resp = zhipuai.model_api.invoke(\n",
    "        model=\"chatglm_turbo\",\n",
    "        prompt=[\n",
    "            {\"role\": \"user\", \"content\": \"你好\"},\n",
    "            {\"role\": \"assistant\", \"content\": \"我是人工智能助手\"},\n",
    "            {\"role\": \"user\", \"content\": \"你叫什么名字\"},\n",
    "            {\"role\": \"assistant\", \"content\": \"我叫chatGLM\"},\n",
    "            {\"role\": \"user\", \"content\": \"你都可以做些什么事\"},\n",
    "        ],\n",
    "        temperature=0.95,\n",
    "        top_p=0.7,\n",
    "        incremental=True\n",
    "    )\n",
    "    print(resp)\n",
    "\n",
    "invoke_example()"
   ]
  },
  {
   "cell_type": "markdown",
   "id": "eab5fa3d-3e27-4337-a891-85eda96ddf50",
   "metadata": {},
   "source": [
    "# 使用 requests 库请求翻译服务 API"
   ]
  },
  {
   "cell_type": "code",
   "execution_count": 7,
   "id": "596c6c45-8b95-4beb-ae6f-b1c49aa4020c",
   "metadata": {},
   "outputs": [
    {
     "name": "stdout",
     "output_type": "stream",
     "text": [
      "Translation completed. Translated file saved as translated_output.md.\n"
     ]
    }
   ],
   "source": [
    "import requests\n",
    "\n",
    "# Flask服务器的地址\n",
    "FLASK_SERVER_URL = 'http://localhost:5000'\n",
    "\n",
    "# 翻译服务接口\n",
    "translation_url = f'{FLASK_SERVER_URL}/translation'\n",
    "\n",
    "# 要上传的文件路径\n",
    "file_path = '../tests/test.pdf'  # 修改为你的文件路径\n",
    "\n",
    "# 构建请求参数\n",
    "params = {\n",
    "    'source_language': 'English',  # 修改为你的源语言\n",
    "    'target_language': 'Chinese'  # 修改为你的目标语言\n",
    "}\n",
    "\n",
    "# 发送POST请求\n",
    "with open(file_path, 'rb') as file:\n",
    "    files = {'input_file': file}\n",
    "    response = requests.post(translation_url, files=files, data=params)\n",
    "\n",
    "# 翻译后文件\n",
    "output_filename = \"translated_output.md\"\n",
    "\n",
    "# 处理响应\n",
    "if response.status_code == 200:\n",
    "    # 保存翻译后的文件\n",
    "    with open(output_filename, 'wb') as output_file:\n",
    "        output_file.write(response.content)\n",
    "    print(f\"Translation completed. Translated file saved as {output_filename}.\")\n",
    "else:\n",
    "    print(f\"Translation failed. Status code: {response.status_code}\")\n",
    "    print(response.text)\n"
   ]
  },
  {
   "cell_type": "code",
   "execution_count": null,
   "id": "2da6286a-d92c-4eaf-abec-9f74cb7af599",
   "metadata": {},
   "outputs": [],
   "source": []
  }
 ],
 "metadata": {
  "kernelspec": {
   "display_name": "Python 3 (ipykernel)",
   "language": "python",
   "name": "python3"
  },
  "language_info": {
   "codemirror_mode": {
    "name": "ipython",
    "version": 3
   },
   "file_extension": ".py",
   "mimetype": "text/x-python",
   "name": "python",
   "nbconvert_exporter": "python",
   "pygments_lexer": "ipython3",
   "version": "3.10.0"
  }
 },
 "nbformat": 4,
 "nbformat_minor": 5
}
